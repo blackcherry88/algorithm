{
 "cells": [
  {
   "cell_type": "code",
   "execution_count": 1,
   "id": "377206d9",
   "metadata": {},
   "outputs": [],
   "source": [
    "%load_ext autoreload\n",
    "%autoreload 2"
   ]
  },
  {
   "cell_type": "code",
   "execution_count": 3,
   "id": "2dc93a1f",
   "metadata": {},
   "outputs": [],
   "source": [
    "#hide\n",
    "from nbdev.showdoc import *"
   ]
  },
  {
   "cell_type": "code",
   "execution_count": null,
   "id": "f29e6a06",
   "metadata": {},
   "outputs": [],
   "source": [
    "# Definition for a binary tree node.\n",
    "class Node:\n",
    "    def __init__(self, x):\n",
    "        self.val = x\n",
    "        self.left = None\n",
    "        self.right = None\n",
    "\n",
    "        \n",
    "def print_tree(root, level=0):\n",
    "    if root is None:\n",
    "        return\n",
    "    \n",
    "    if root.left:\n",
    "        print_tree(root.left, level+1)\n",
    "    prefix = '-'*level*2\n",
    "    print(f\"{prefix}{root.val}\")\n",
    "    if root.right:\n",
    "        print_tree(root.right, level+1)\n",
    "    \n",
    "\n",
    "def from_array(a, i, sz):\n",
    "    if i >= sz:\n",
    "        return None\n",
    "    \n",
    "    if a[i] is None:\n",
    "        return None\n",
    "    \n",
    "    n = Node(a[i])\n",
    "    n.left = create_tree(a, i*2+1, sz)\n",
    "    n. right = create_tree(a, i*2+2, sz)\n",
    "    return n"
   ]
  },
  {
   "cell_type": "code",
   "execution_count": 18,
   "id": "ffbc3329",
   "metadata": {},
   "outputs": [],
   "source": [
    "from dataclasses import dataclass\n",
    "\n",
    "MIN = -2**32\n",
    "MAX = 2**32-1\n",
    "\n",
    "\n",
    "@dataclass\n",
    "class BstResult:\n",
    "    sz: int\n",
    "    _min: int\n",
    "    _max: int\n",
    "    is_bst: bool\n",
    "\n",
    "\n",
    "def max_bst(root):\n",
    "    if root is None:\n",
    "        return BstResult(sz=0, _min=MAX, _max=MIN, is_bst=True)\n",
    "    \n",
    "#     if root.left is None and root.right is None:\n",
    "#         return BstResult(1, root.val, root.val, is_bst=True)\n",
    "    \n",
    "    \n",
    "    left = max_bst(root.left)\n",
    "    right = max_bst(root.right)\n",
    "    \n",
    "    if left.is_bst and \\\n",
    "        left._max < root.val and \\\n",
    "        root.val < right._min and \\\n",
    "        right.is_bst:\n",
    "        _min = min(left._min, root.val, right._min)\n",
    "        _max = max(left._max, root.val, right._max)\n",
    "        sz = left.sz + right.sz + 1\n",
    "        return BstResult(sz, _min, _max, is_bst=True)\n",
    "    \n",
    "    if left.sz >= right.sz:\n",
    "        return BstResult(sz=left.sz, _min=left._min, _max=left._max, is_bst=False)\n",
    "    return BstResult(sz=right.sz, _min=right._min, _max=right._max, is_bst=False)\n"
   ]
  },
  {
   "cell_type": "code",
   "execution_count": 19,
   "id": "6e0354e9",
   "metadata": {},
   "outputs": [
    {
     "name": "stdout",
     "output_type": "stream",
     "text": [
      "----1\n",
      "--5\n",
      "----8\n",
      "10\n",
      "--15\n",
      "----7\n"
     ]
    }
   ],
   "source": [
    "a = [10,5,15,1,8, None,7]\n",
    "root = from_array(a, 0, len(a))\n",
    "print_tree(root)"
   ]
  },
  {
   "cell_type": "code",
   "execution_count": 20,
   "id": "c2c5d104",
   "metadata": {},
   "outputs": [
    {
     "data": {
      "text/plain": [
       "BstResult(sz=3, _min=1, _max=8, is_bst=False)"
      ]
     },
     "execution_count": 20,
     "metadata": {},
     "output_type": "execute_result"
    }
   ],
   "source": [
    "max_bst(root)"
   ]
  },
  {
   "cell_type": "code",
   "execution_count": null,
   "id": "7bade42f",
   "metadata": {},
   "outputs": [],
   "source": []
  }
 ],
 "metadata": {
  "kernelspec": {
   "display_name": "Python 3 (ipykernel)",
   "language": "python",
   "name": "python3"
  },
  "language_info": {
   "codemirror_mode": {
    "name": "ipython",
    "version": 3
   },
   "file_extension": ".py",
   "mimetype": "text/x-python",
   "name": "python",
   "nbconvert_exporter": "python",
   "pygments_lexer": "ipython3",
   "version": "3.8.12"
  }
 },
 "nbformat": 4,
 "nbformat_minor": 5
}
