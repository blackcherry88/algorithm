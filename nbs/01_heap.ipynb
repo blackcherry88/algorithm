{
 "cells": [
  {
   "cell_type": "code",
   "execution_count": 3,
   "id": "377206d9",
   "metadata": {},
   "outputs": [],
   "source": [
    "%load_ext autoreload\n",
    "%autoreload 2"
   ]
  },
  {
   "cell_type": "code",
   "execution_count": 4,
   "id": "88cbf26a",
   "metadata": {},
   "outputs": [],
   "source": [
    "# default_exp core.ds.heap"
   ]
  },
  {
   "cell_type": "markdown",
   "id": "0817bc68",
   "metadata": {},
   "source": [
    "Store tree in array"
   ]
  },
  {
   "cell_type": "code",
   "execution_count": 5,
   "id": "2dc93a1f",
   "metadata": {},
   "outputs": [],
   "source": [
    "#hide\n",
    "from nbdev.showdoc import *"
   ]
  },
  {
   "cell_type": "code",
   "execution_count": 19,
   "id": "92b68f54",
   "metadata": {},
   "outputs": [],
   "source": [
    "# export\n",
    "\n",
    "def left(i):\n",
    "    return (i << 1) + 1\n",
    "\n",
    "\n",
    "def right(i):\n",
    "    return (i << 1) + 2\n",
    "\n",
    "\n",
    "def parent(i):\n",
    "    return (i-1)>>1\n",
    "\n",
    "\n",
    "def _swap(a, i, sz):\n",
    "    if i >= sz:\n",
    "        return\n",
    "    \n",
    "    l = left(i)\n",
    "    smallest = i\n",
    "    if l < sz and a[l] < a[i]:\n",
    "        smallest = l\n",
    "\n",
    "    r = right(i)\n",
    "    if r < sz and a[r] < a[smallest]:\n",
    "        smallest = r\n",
    "    if smallest != i:\n",
    "        a[i], a[smallest] = a[smallest], a[i]\n",
    "        \n",
    "\n",
    "def heapify(a):\n",
    "    sz = len(a)\n",
    "    n = (len(a)//2)-1\n",
    "    for i in range(n, -1, -1):\n",
    "        _swap(a, i, sz)\n",
    "\n",
    "\n",
    "# assume heap is already built\n",
    "def heap_down(a, i, sz):\n",
    "    if i >= sz:\n",
    "        return\n",
    "\n",
    "    l = left(i)\n",
    "    r = right(i)\n",
    "\n",
    "    #which branch\n",
    "    s = l\n",
    "    if (r < sz) and (a[r] < a[b]):\n",
    "        s = r\n",
    "        \n",
    "    if (s < sz) and (a[i] > a[s]):\n",
    "        a[i], a[b] = a[b], a[i]\n",
    "        heap_down(a, b, sz)\n",
    "\n",
    "        \n",
    "# assume heap is already built\n",
    "def heap_up(a, i):\n",
    "    while i > 0:\n",
    "        p = parent(i)\n",
    "        if a[i] >= a[p]:\n",
    "            break\n",
    "            \n",
    "        a[p], a[i] = a[i], a[p]\n",
    "        i = p\n",
    "        \n",
    "        "
   ]
  },
  {
   "cell_type": "code",
   "execution_count": 20,
   "id": "19f0d31c",
   "metadata": {},
   "outputs": [],
   "source": [
    "assert left(0)==1\n",
    "assert right(0)==2\n",
    "assert parent(2) == 0"
   ]
  },
  {
   "cell_type": "code",
   "execution_count": 29,
   "id": "70d5dedc",
   "metadata": {},
   "outputs": [
    {
     "data": {
      "text/plain": [
       "[1, 3, 2, 9, 4, 5]"
      ]
     },
     "execution_count": 29,
     "metadata": {},
     "output_type": "execute_result"
    }
   ],
   "source": [
    "a = [3,9,2,1,4,5]\n",
    "heapify(a)\n",
    "a"
   ]
  },
  {
   "cell_type": "code",
   "execution_count": 30,
   "id": "f1f81b75",
   "metadata": {},
   "outputs": [
    {
     "data": {
      "text/plain": [
       "[0, 3, 1, 9, 4, 5, 2]"
      ]
     },
     "execution_count": 30,
     "metadata": {},
     "output_type": "execute_result"
    }
   ],
   "source": [
    "a.append(0)\n",
    "heap_up(a, len(a)-1)\n",
    "a"
   ]
  },
  {
   "cell_type": "code",
   "execution_count": 17,
   "id": "84a1ca6e",
   "metadata": {},
   "outputs": [
    {
     "data": {
      "text/plain": [
       "[1, 3, 2, 9, 4, 5]"
      ]
     },
     "execution_count": 17,
     "metadata": {},
     "output_type": "execute_result"
    }
   ],
   "source": [
    "a = [3,9,2,1,4,5]\n",
    "import heapq\n",
    "heapq.heapify(a)\n",
    "a"
   ]
  },
  {
   "cell_type": "code",
   "execution_count": null,
   "id": "b2fcd7e8",
   "metadata": {},
   "outputs": [],
   "source": []
  }
 ],
 "metadata": {
  "kernelspec": {
   "display_name": "Python 3 (ipykernel)",
   "language": "python",
   "name": "python3"
  },
  "language_info": {
   "codemirror_mode": {
    "name": "ipython",
    "version": 3
   },
   "file_extension": ".py",
   "mimetype": "text/x-python",
   "name": "python",
   "nbconvert_exporter": "python",
   "pygments_lexer": "ipython3",
   "version": "3.8.12"
  }
 },
 "nbformat": 4,
 "nbformat_minor": 5
}
