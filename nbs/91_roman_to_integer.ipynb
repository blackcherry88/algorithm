{
 "cells": [
  {
   "cell_type": "code",
   "execution_count": 1,
   "id": "d8834df3",
   "metadata": {},
   "outputs": [],
   "source": [
    "%load_ext autoreload\n",
    "%autoreload 2"
   ]
  },
  {
   "cell_type": "code",
   "execution_count": 2,
   "id": "e3ea219c",
   "metadata": {},
   "outputs": [],
   "source": [
    "#hide\n",
    "from nbdev.showdoc import *"
   ]
  },
  {
   "cell_type": "markdown",
   "id": "9ce07127",
   "metadata": {},
   "source": [
    "Table\n",
    "I --> 1\n",
    "V --> 5\n",
    "X --> 10\n",
    "L --> 50\n",
    "C --> 100\n",
    "D --> 500\n",
    "M --> 1000\n",
    "\n",
    "Rule:\n",
    "1. 4 is IV\n",
    "2. 9 is IX\n",
    "3. if small number following up with big number, then it is minus\n",
    "4. max of three continuous number"
   ]
  },
  {
   "cell_type": "code",
   "execution_count": 9,
   "id": "d2c9e320",
   "metadata": {},
   "outputs": [],
   "source": [
    "table = {\n",
    "    'I':1,\n",
    "    'V':5,\n",
    "    'X':10,\n",
    "    'L':50,\n",
    "    'C':100,\n",
    "    'D':500,\n",
    "    'M':1000\n",
    "}\n",
    "\n",
    "\n",
    "def roman_num(s):\n",
    "    t = 0\n",
    "    prev = 10000\n",
    "    for i, c in enumerate(s):\n",
    "        v = table[c]\n",
    "        if v <= prev:\n",
    "            t += v\n",
    "            prev = v\n",
    "        else:\n",
    "            if (v // prev) != 5 and (v // prev) != 10:\n",
    "                raise ValueError(f\"Invalid sequence {s} at [{i}]\")\n",
    "            #double minus what we add before, net effective is \n",
    "            #minus prev\n",
    "            t += v - 2 * prev\n",
    "            prev = v\n",
    "    return t\n"
   ]
  },
  {
   "cell_type": "code",
   "execution_count": 10,
   "id": "c6b6b3ef",
   "metadata": {},
   "outputs": [
    {
     "data": {
      "text/plain": [
       "1994"
      ]
     },
     "execution_count": 10,
     "metadata": {},
     "output_type": "execute_result"
    }
   ],
   "source": [
    "roman_num('MCMXCIV')"
   ]
  },
  {
   "cell_type": "code",
   "execution_count": 11,
   "id": "bffb1f1a",
   "metadata": {},
   "outputs": [
    {
     "ename": "ValueError",
     "evalue": "Invalid sequence MIMXCIV at [2]",
     "output_type": "error",
     "traceback": [
      "\u001b[1;31m---------------------------------------------------------------------------\u001b[0m",
      "\u001b[1;31mValueError\u001b[0m                                Traceback (most recent call last)",
      "\u001b[1;32mC:\\Temp/ipykernel_10180/2964731781.py\u001b[0m in \u001b[0;36m<module>\u001b[1;34m\u001b[0m\n\u001b[1;32m----> 1\u001b[1;33m \u001b[0mroman_num\u001b[0m\u001b[1;33m(\u001b[0m\u001b[1;34m'MIMXCIV'\u001b[0m\u001b[1;33m)\u001b[0m\u001b[1;33m\u001b[0m\u001b[1;33m\u001b[0m\u001b[0m\n\u001b[0m",
      "\u001b[1;32mC:\\Temp/ipykernel_10180/3098370390.py\u001b[0m in \u001b[0;36mroman_num\u001b[1;34m(s)\u001b[0m\n\u001b[0;32m     20\u001b[0m         \u001b[1;32melse\u001b[0m\u001b[1;33m:\u001b[0m\u001b[1;33m\u001b[0m\u001b[1;33m\u001b[0m\u001b[0m\n\u001b[0;32m     21\u001b[0m             \u001b[1;32mif\u001b[0m \u001b[1;33m(\u001b[0m\u001b[0mv\u001b[0m \u001b[1;33m//\u001b[0m \u001b[0mprev\u001b[0m\u001b[1;33m)\u001b[0m \u001b[1;33m!=\u001b[0m \u001b[1;36m5\u001b[0m \u001b[1;32mand\u001b[0m \u001b[1;33m(\u001b[0m\u001b[0mv\u001b[0m \u001b[1;33m//\u001b[0m \u001b[0mprev\u001b[0m\u001b[1;33m)\u001b[0m \u001b[1;33m!=\u001b[0m \u001b[1;36m10\u001b[0m\u001b[1;33m:\u001b[0m\u001b[1;33m\u001b[0m\u001b[1;33m\u001b[0m\u001b[0m\n\u001b[1;32m---> 22\u001b[1;33m                 \u001b[1;32mraise\u001b[0m \u001b[0mValueError\u001b[0m\u001b[1;33m(\u001b[0m\u001b[1;34mf\"Invalid sequence {s} at [{i}]\"\u001b[0m\u001b[1;33m)\u001b[0m\u001b[1;33m\u001b[0m\u001b[1;33m\u001b[0m\u001b[0m\n\u001b[0m\u001b[0;32m     23\u001b[0m             \u001b[1;31m#double minus what we add before\u001b[0m\u001b[1;33m\u001b[0m\u001b[1;33m\u001b[0m\u001b[1;33m\u001b[0m\u001b[0m\n\u001b[0;32m     24\u001b[0m             \u001b[0mt\u001b[0m \u001b[1;33m+=\u001b[0m \u001b[0mv\u001b[0m \u001b[1;33m-\u001b[0m \u001b[1;36m2\u001b[0m \u001b[1;33m*\u001b[0m \u001b[0mprev\u001b[0m\u001b[1;33m\u001b[0m\u001b[1;33m\u001b[0m\u001b[0m\n",
      "\u001b[1;31mValueError\u001b[0m: Invalid sequence MIMXCIV at [2]"
     ]
    }
   ],
   "source": [
    "roman_num('MIMXCIV')"
   ]
  },
  {
   "cell_type": "code",
   "execution_count": null,
   "id": "375c8815",
   "metadata": {},
   "outputs": [],
   "source": []
  }
 ],
 "metadata": {
  "kernelspec": {
   "display_name": "Python 3 (ipykernel)",
   "language": "python",
   "name": "python3"
  },
  "language_info": {
   "codemirror_mode": {
    "name": "ipython",
    "version": 3
   },
   "file_extension": ".py",
   "mimetype": "text/x-python",
   "name": "python",
   "nbconvert_exporter": "python",
   "pygments_lexer": "ipython3",
   "version": "3.8.12"
  }
 },
 "nbformat": 4,
 "nbformat_minor": 5
}
