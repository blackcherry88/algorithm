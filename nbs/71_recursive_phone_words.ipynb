{
 "cells": [
  {
   "cell_type": "code",
   "execution_count": 1,
   "id": "d8834df3",
   "metadata": {},
   "outputs": [],
   "source": [
    "%load_ext autoreload\n",
    "%autoreload 2"
   ]
  },
  {
   "cell_type": "code",
   "execution_count": 2,
   "id": "e3ea219c",
   "metadata": {},
   "outputs": [],
   "source": [
    "#hide\n",
    "from nbdev.showdoc import *"
   ]
  },
  {
   "cell_type": "code",
   "execution_count": 9,
   "id": "15a9520d",
   "metadata": {},
   "outputs": [],
   "source": [
    "n_2_c = [\"\", \"\", \"abc\", \"def\", \"ghi\", \"jkl\", \"mno\", \"pqrs\", \"tuv\", \"wxyz\"]\n",
    "\n",
    "\n",
    "def all_words(p):\n",
    "    sz = len(p)\n",
    "    if sz <= 0:\n",
    "        return\n",
    "    \n",
    "    r = []\n",
    "    \n",
    "    def _helper(i):\n",
    "        if i >= sz:\n",
    "            yield ''.join(r)\n",
    "            return\n",
    "        \n",
    "        n = int(p[i])\n",
    "        # can't handle 0 or 1\n",
    "        if n <= 1:\n",
    "            return\n",
    "        for c in n_2_c[n]:\n",
    "            r.append(c)\n",
    "            yield from _helper(i+1)\n",
    "            r.pop(-1)\n",
    "            \n",
    "    yield from _helper(0)"
   ]
  },
  {
   "cell_type": "code",
   "execution_count": 10,
   "id": "43ee2422",
   "metadata": {},
   "outputs": [
    {
     "name": "stdout",
     "output_type": "stream",
     "text": [
      "adg\n",
      "adh\n",
      "adi\n",
      "aeg\n",
      "aeh\n",
      "aei\n",
      "afg\n",
      "afh\n",
      "afi\n",
      "bdg\n",
      "bdh\n",
      "bdi\n",
      "beg\n",
      "beh\n",
      "bei\n",
      "bfg\n",
      "bfh\n",
      "bfi\n",
      "cdg\n",
      "cdh\n",
      "cdi\n",
      "ceg\n",
      "ceh\n",
      "cei\n",
      "cfg\n",
      "cfh\n",
      "cfi\n"
     ]
    }
   ],
   "source": [
    "p = \"234\"\n",
    "for s in all_words(p):\n",
    "    print(s)"
   ]
  },
  {
   "cell_type": "code",
   "execution_count": null,
   "id": "e4bbb2b8",
   "metadata": {},
   "outputs": [],
   "source": []
  }
 ],
 "metadata": {
  "kernelspec": {
   "display_name": "Python 3 (ipykernel)",
   "language": "python",
   "name": "python3"
  },
  "language_info": {
   "codemirror_mode": {
    "name": "ipython",
    "version": 3
   },
   "file_extension": ".py",
   "mimetype": "text/x-python",
   "name": "python",
   "nbconvert_exporter": "python",
   "pygments_lexer": "ipython3",
   "version": "3.8.12"
  }
 },
 "nbformat": 4,
 "nbformat_minor": 5
}
