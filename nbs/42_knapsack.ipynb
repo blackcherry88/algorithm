{
 "cells": [
  {
   "cell_type": "code",
   "execution_count": 1,
   "id": "d8834df3",
   "metadata": {},
   "outputs": [],
   "source": [
    "%load_ext autoreload\n",
    "%autoreload 2"
   ]
  },
  {
   "cell_type": "code",
   "execution_count": 2,
   "id": "e3ea219c",
   "metadata": {},
   "outputs": [],
   "source": [
    "#hide\n",
    "from nbdev.showdoc import *"
   ]
  },
  {
   "cell_type": "code",
   "execution_count": 6,
   "id": "73e905d2",
   "metadata": {},
   "outputs": [],
   "source": [
    "# naive recursive\n",
    "def knapsack(n, W, wt, v):\n",
    "    # terminate condition\n",
    "    if (n <= 0) or (W <=0):\n",
    "        return 0\n",
    "    \n",
    "    # should we choose nth item\n",
    "    if wt[n-1] > W:\n",
    "        return knapsack(n-1, W, wt, v)\n",
    "    #pick up max of two cases:\n",
    "    #case 1: without nth item\n",
    "    #case 2: with nth item\n",
    "    return max(knapsack(n-1, W, wt, v), knapsack(n-1, W-wt[n-1], wt, v)+v[n-1])\n",
    "    "
   ]
  },
  {
   "cell_type": "code",
   "execution_count": 7,
   "id": "4e900a07",
   "metadata": {},
   "outputs": [
    {
     "name": "stdout",
     "output_type": "stream",
     "text": [
      "220\n"
     ]
    }
   ],
   "source": [
    "# Driver code\n",
    "v = [60, 100, 120]\n",
    "wt = [10, 20, 30]\n",
    "W = 50\n",
    "n = len(v)\n",
    "print(knapsack(n, W, wt, v))"
   ]
  },
  {
   "cell_type": "code",
   "execution_count": 32,
   "id": "8a061c41",
   "metadata": {},
   "outputs": [],
   "source": [
    "# dynamic based on recursive\n",
    "def knapsack2(n, W, wt, v, cache):\n",
    "    # terminate condition\n",
    "    if (n <= 0) or (W <=0):\n",
    "        return 0\n",
    "    \n",
    "    if cache[n, W] >= 0:\n",
    "        return cache[n, W]\n",
    "    \n",
    "    # should we choose nth item\n",
    "    if wt[n-1] > W:\n",
    "        maxV = knapsack(n-1, W, wt, v, cache)\n",
    "        cache[n, W] = maxV\n",
    "        return maxV\n",
    "    \n",
    "    #pick up max of two cases:\n",
    "    #case 1: without nth item\n",
    "    #case 2: with nth item\n",
    "    maxV = max(knapsack(n-1, W, wt, v, cache), \n",
    "               knapsack(n-1, W-wt[n-1], wt, v, cache)+v[n-1])\n",
    "    cache[n, W] = maxV\n",
    "    return maxV\n",
    "    "
   ]
  },
  {
   "cell_type": "code",
   "execution_count": 33,
   "id": "6c5cbccd",
   "metadata": {},
   "outputs": [
    {
     "name": "stdout",
     "output_type": "stream",
     "text": [
      "220\n"
     ]
    }
   ],
   "source": [
    "import numpy as np\n",
    "\n",
    "# Driver code\n",
    "v = [60, 100, 120]\n",
    "wt = [10, 20, 30]\n",
    "W = 50\n",
    "n = len(v)\n",
    "\n",
    "cache = np.zeros((n+1, W+1))\n",
    "cache.fill(-1)\n",
    "print(knapsack2(n, W, wt, v, cache))"
   ]
  },
  {
   "cell_type": "code",
   "execution_count": 34,
   "id": "69ced3c5",
   "metadata": {},
   "outputs": [
    {
     "data": {
      "text/plain": [
       "array([[ -1.,  -1.,  -1.,  -1.,  -1.,  -1.,  -1.,  -1.,  -1.,  -1.,  -1.,\n",
       "         -1.,  -1.,  -1.,  -1.,  -1.,  -1.,  -1.,  -1.,  -1.,  -1.,  -1.,\n",
       "         -1.,  -1.,  -1.,  -1.,  -1.,  -1.,  -1.,  -1.,  -1.,  -1.,  -1.,\n",
       "         -1.,  -1.,  -1.,  -1.,  -1.,  -1.,  -1.,  -1.,  -1.,  -1.,  -1.,\n",
       "         -1.,  -1.,  -1.,  -1.,  -1.,  -1.,  -1.],\n",
       "       [ -1.,  -1.,  -1.,  -1.,  -1.,  -1.,  -1.,  -1.,  -1.,  -1.,  -1.,\n",
       "         -1.,  -1.,  -1.,  -1.,  -1.,  -1.,  -1.,  -1.,  -1.,  60.,  -1.,\n",
       "         -1.,  -1.,  -1.,  -1.,  -1.,  -1.,  -1.,  -1.,  60.,  -1.,  -1.,\n",
       "         -1.,  -1.,  -1.,  -1.,  -1.,  -1.,  -1.,  -1.,  -1.,  -1.,  -1.,\n",
       "         -1.,  -1.,  -1.,  -1.,  -1.,  -1.,  60.],\n",
       "       [ -1.,  -1.,  -1.,  -1.,  -1.,  -1.,  -1.,  -1.,  -1.,  -1.,  -1.,\n",
       "         -1.,  -1.,  -1.,  -1.,  -1.,  -1.,  -1.,  -1.,  -1., 100.,  -1.,\n",
       "         -1.,  -1.,  -1.,  -1.,  -1.,  -1.,  -1.,  -1.,  -1.,  -1.,  -1.,\n",
       "         -1.,  -1.,  -1.,  -1.,  -1.,  -1.,  -1.,  -1.,  -1.,  -1.,  -1.,\n",
       "         -1.,  -1.,  -1.,  -1.,  -1.,  -1., 160.],\n",
       "       [ -1.,  -1.,  -1.,  -1.,  -1.,  -1.,  -1.,  -1.,  -1.,  -1.,  -1.,\n",
       "         -1.,  -1.,  -1.,  -1.,  -1.,  -1.,  -1.,  -1.,  -1.,  -1.,  -1.,\n",
       "         -1.,  -1.,  -1.,  -1.,  -1.,  -1.,  -1.,  -1.,  -1.,  -1.,  -1.,\n",
       "         -1.,  -1.,  -1.,  -1.,  -1.,  -1.,  -1.,  -1.,  -1.,  -1.,  -1.,\n",
       "         -1.,  -1.,  -1.,  -1.,  -1.,  -1., 220.]])"
      ]
     },
     "execution_count": 34,
     "metadata": {},
     "output_type": "execute_result"
    }
   ],
   "source": [
    "cache"
   ]
  },
  {
   "cell_type": "markdown",
   "id": "51858604",
   "metadata": {},
   "source": [
    "3 observations of cache:\n",
    "1. most items in cached are not touched, roughly only O(n) items are computed.\n",
    "2. cache[n,:] always depends on cache[n-1,:], so if we compute forward from 0 to n-1, we don't need 2-d dimension cache. We could use only 1-d dimension by get rid of the first dimension.\n",
    "3. The cache[0, :] is never used. but we know without any items, the value should be 0."
   ]
  },
  {
   "cell_type": "code",
   "execution_count": 30,
   "id": "035fc90c",
   "metadata": {},
   "outputs": [],
   "source": [
    "# dynamic programming without recursve\n",
    "def knapsack3(n, W, wt, v):\n",
    "    # terminate condition\n",
    "    if (n <= 0) or (W <=0):\n",
    "        return 0\n",
    "    \n",
    "    # without any item, the value is 0\n",
    "    cache = np.zeros(W+1)\n",
    "    for i in range(n):\n",
    "        # consider the ith item, backward capacity\n",
    "        for w in range(W, 0, -1):\n",
    "            # we can't add this item,\n",
    "            # so cache will not change\n",
    "            if wt[i] > w:\n",
    "                break\n",
    "                \n",
    "            #pick up max of two cases:\n",
    "            #case 1: without ith item, we use old cache[w]\n",
    "            #case 2: with ith item\n",
    "            cache[w] = max(cache[w], # without \n",
    "                           cache[w-wt[i]] + v[i]) # with\n",
    "            # no need to compute cache[w-1] etc\n",
    "            if i == n-1:\n",
    "                return cache[w]"
   ]
  },
  {
   "cell_type": "code",
   "execution_count": 31,
   "id": "deccbfd5",
   "metadata": {},
   "outputs": [
    {
     "name": "stdout",
     "output_type": "stream",
     "text": [
      "220.0\n"
     ]
    }
   ],
   "source": [
    "# Driver code\n",
    "v = [60, 100, 120]\n",
    "wt = [10, 20, 30]\n",
    "W = 50\n",
    "n = len(v)\n",
    "\n",
    "print(knapsack3(n, W, wt, v))"
   ]
  },
  {
   "cell_type": "code",
   "execution_count": null,
   "id": "1cbcd116",
   "metadata": {},
   "outputs": [],
   "source": []
  }
 ],
 "metadata": {
  "kernelspec": {
   "display_name": "Python 3 (ipykernel)",
   "language": "python",
   "name": "python3"
  },
  "language_info": {
   "codemirror_mode": {
    "name": "ipython",
    "version": 3
   },
   "file_extension": ".py",
   "mimetype": "text/x-python",
   "name": "python",
   "nbconvert_exporter": "python",
   "pygments_lexer": "ipython3",
   "version": "3.8.12"
  }
 },
 "nbformat": 4,
 "nbformat_minor": 5
}
