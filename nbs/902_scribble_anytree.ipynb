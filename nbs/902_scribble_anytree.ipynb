{
 "cells": [
  {
   "cell_type": "code",
   "execution_count": 1,
   "id": "377206d9",
   "metadata": {},
   "outputs": [],
   "source": [
    "%load_ext autoreload\n",
    "%autoreload 2"
   ]
  },
  {
   "cell_type": "code",
   "execution_count": 1,
   "id": "2e199996",
   "metadata": {},
   "outputs": [
    {
     "name": "stdout",
     "output_type": "stream",
     "text": [
      "Node('/Udo')\n",
      "Node('/Marc')\n",
      "└── Node('/Marc/Lian')\n"
     ]
    }
   ],
   "source": [
    "from anytree import Node, RenderTree\n",
    "udo = Node(\"Udo\")\n",
    "marc = Node(\"Marc\")\n",
    "lian = Node(\"Lian\", parent=marc)\n",
    "print(RenderTree(udo))\n",
    "print(RenderTree(marc))"
   ]
  },
  {
   "cell_type": "code",
   "execution_count": 2,
   "id": "d20a2128",
   "metadata": {},
   "outputs": [
    {
     "name": "stdout",
     "output_type": "stream",
     "text": [
      "Node('/Udo')\n",
      "└── Node('/Udo/Marc')\n",
      "    └── Node('/Udo/Marc/Lian')\n"
     ]
    }
   ],
   "source": [
    "marc.parent = udo\n",
    "print(RenderTree(udo))"
   ]
  },
  {
   "cell_type": "code",
   "execution_count": 9,
   "id": "5218363c",
   "metadata": {},
   "outputs": [],
   "source": [
    "def traverse_tree(root, level=0):\n",
    "    print(f\"{'-'*level} {root.name}\")\n",
    "    for c in root.children:\n",
    "        traverse_tree(c, level+1)"
   ]
  },
  {
   "cell_type": "code",
   "execution_count": 10,
   "id": "82e50af4",
   "metadata": {},
   "outputs": [
    {
     "name": "stdout",
     "output_type": "stream",
     "text": [
      " Udo\n",
      "- Marc\n",
      "-- Lian\n"
     ]
    }
   ],
   "source": [
    "traverse_tree(udo)"
   ]
  },
  {
   "cell_type": "code",
   "execution_count": null,
   "id": "9a1f2f7c",
   "metadata": {},
   "outputs": [],
   "source": []
  }
 ],
 "metadata": {
  "kernelspec": {
   "display_name": "Python 3 (ipykernel)",
   "language": "python",
   "name": "python3"
  },
  "language_info": {
   "codemirror_mode": {
    "name": "ipython",
    "version": 3
   },
   "file_extension": ".py",
   "mimetype": "text/x-python",
   "name": "python",
   "nbconvert_exporter": "python",
   "pygments_lexer": "ipython3",
   "version": "3.8.12"
  }
 },
 "nbformat": 4,
 "nbformat_minor": 5
}
