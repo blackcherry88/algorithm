{
 "cells": [
  {
   "cell_type": "code",
   "execution_count": 1,
   "id": "377206d9",
   "metadata": {},
   "outputs": [],
   "source": [
    "%load_ext autoreload\n",
    "%autoreload 2"
   ]
  },
  {
   "cell_type": "code",
   "execution_count": 3,
   "id": "2dc93a1f",
   "metadata": {},
   "outputs": [],
   "source": [
    "#hide\n",
    "from nbdev.showdoc import *"
   ]
  },
  {
   "cell_type": "code",
   "execution_count": 13,
   "id": "84a1ca6e",
   "metadata": {},
   "outputs": [],
   "source": [
    "# assume graph is a matrix such as np 2d matrix\n",
    "\n",
    "\n",
    "def is_bipartite(graph):\n",
    "    \n",
    "    def _is_bp(v, c):\n",
    "        if visited[v]:\n",
    "            if visited[v] == c:\n",
    "                print(f\"True: Visited {v} to color {c} with {visited}\")\n",
    "                return True\n",
    "            else:\n",
    "                print(f\"False: Visited {v} to color {c} with {visited}\")\n",
    "                return False\n",
    "        visited[v] = c\n",
    "        print(f\"Set {v} to color {c} with {visited}\")\n",
    "        \n",
    "        other_c = 2 - c + 1\n",
    "        for o, e in enumerate(graph[v]):\n",
    "            # no edge\n",
    "            if e <= 0:\n",
    "                continue\n",
    "            if not _is_bp(o, other_c):\n",
    "                print(f\"Can't set {o} to color {other_c} with {visited}\")\n",
    "                return False\n",
    "        \n",
    "        print(f\"Success bip for {v} to {c} with {visited}\")\n",
    "        return True\n",
    "    \n",
    "    sz = graph.shape[0]\n",
    "    # 0, not visited\n",
    "    # 1, color 1\n",
    "    # 2, color 2\n",
    "    visited = [0 for _ in range(sz)]\n",
    "            \n",
    "    for v in range(sz):\n",
    "        if visited[v]:\n",
    "            continue\n",
    "        if not _is_bp(v, 1):\n",
    "            return False\n",
    "    return True\n"
   ]
  },
  {
   "cell_type": "code",
   "execution_count": 14,
   "id": "ffbc3329",
   "metadata": {},
   "outputs": [],
   "source": [
    "import numpy as np\n",
    "\n",
    "g = np.array([[0, 1, 0, 1],\n",
    "            [1, 0, 1, 0],\n",
    "            [0, 1, 0, 1],\n",
    "            [1, 0, 1, 0]\n",
    "            ])"
   ]
  },
  {
   "cell_type": "code",
   "execution_count": 15,
   "id": "177b31a1",
   "metadata": {},
   "outputs": [
    {
     "name": "stdout",
     "output_type": "stream",
     "text": [
      "Set 0 to color 1 with [1, 0, 0, 0]\n",
      "Set 1 to color 2 with [1, 2, 0, 0]\n",
      "True: Visited 0 to color 1 with [1, 2, 0, 0]\n",
      "Set 2 to color 1 with [1, 2, 1, 0]\n",
      "True: Visited 1 to color 2 with [1, 2, 1, 0]\n",
      "Set 3 to color 2 with [1, 2, 1, 2]\n",
      "True: Visited 0 to color 1 with [1, 2, 1, 2]\n",
      "True: Visited 2 to color 1 with [1, 2, 1, 2]\n",
      "Success bip for 3 to 2 with [1, 2, 1, 2]\n",
      "Success bip for 2 to 1 with [1, 2, 1, 2]\n",
      "Success bip for 1 to 2 with [1, 2, 1, 2]\n",
      "True: Visited 3 to color 2 with [1, 2, 1, 2]\n",
      "Success bip for 0 to 1 with [1, 2, 1, 2]\n"
     ]
    },
    {
     "data": {
      "text/plain": [
       "True"
      ]
     },
     "execution_count": 15,
     "metadata": {},
     "output_type": "execute_result"
    }
   ],
   "source": [
    "is_bipartite(g)"
   ]
  },
  {
   "cell_type": "code",
   "execution_count": null,
   "id": "94b711e9",
   "metadata": {},
   "outputs": [],
   "source": []
  }
 ],
 "metadata": {
  "kernelspec": {
   "display_name": "Python 3 (ipykernel)",
   "language": "python",
   "name": "python3"
  },
  "language_info": {
   "codemirror_mode": {
    "name": "ipython",
    "version": 3
   },
   "file_extension": ".py",
   "mimetype": "text/x-python",
   "name": "python",
   "nbconvert_exporter": "python",
   "pygments_lexer": "ipython3",
   "version": "3.8.12"
  }
 },
 "nbformat": 4,
 "nbformat_minor": 5
}
