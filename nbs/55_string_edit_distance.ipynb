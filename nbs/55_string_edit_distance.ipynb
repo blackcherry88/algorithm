{
 "cells": [
  {
   "cell_type": "code",
   "execution_count": 1,
   "id": "d8834df3",
   "metadata": {},
   "outputs": [],
   "source": [
    "%load_ext autoreload\n",
    "%autoreload 2"
   ]
  },
  {
   "cell_type": "code",
   "execution_count": 2,
   "id": "e3ea219c",
   "metadata": {},
   "outputs": [],
   "source": [
    "#hide\n",
    "from nbdev.showdoc import *"
   ]
  },
  {
   "cell_type": "code",
   "execution_count": 9,
   "id": "9306c433",
   "metadata": {},
   "outputs": [],
   "source": [
    "def edit_distance(s, t):\n",
    "    if not s:\n",
    "        return len(t)\n",
    "    if not t:\n",
    "        return len(s)\n",
    "    \n",
    "    s_len = len(s)\n",
    "    t_len = len(t)\n",
    "    \n",
    "    D = [[0]*(t_len+1) for _ in range(s_len+1)]\n",
    "    \n",
    "    for i in range(s_len):\n",
    "        D[i+1][0] = i+1\n",
    "    \n",
    "    for j in range(t_len):\n",
    "        D[0][j+1] = j+1\n",
    "        \n",
    "    \n",
    "    for i in range(s_len):\n",
    "        for j in range(t_len):\n",
    "            if s[i] == t[j]:\n",
    "                D[i+1][j+1] = D[i][j]\n",
    "            else:\n",
    "                D[i+1][j+1] = min(\n",
    "                    D[i][j+1] + 1, # delete s[i]\n",
    "                    D[i][j] + 1, # replace s[i] -> t[j]\n",
    "                    D[i+1][j] + 1, # delete t[j]\n",
    "                )\n",
    "    return D[s_len][t_len]\n",
    "    \n",
    "    \n"
   ]
  },
  {
   "cell_type": "code",
   "execution_count": 10,
   "id": "438e5121",
   "metadata": {},
   "outputs": [
    {
     "data": {
      "text/plain": [
       "1"
      ]
     },
     "execution_count": 10,
     "metadata": {},
     "output_type": "execute_result"
    }
   ],
   "source": [
    "edit_distance(\"abc\", \"abcd\")"
   ]
  },
  {
   "cell_type": "code",
   "execution_count": 11,
   "id": "c87154bb",
   "metadata": {},
   "outputs": [
    {
     "data": {
      "text/plain": [
       "3"
      ]
     },
     "execution_count": 11,
     "metadata": {},
     "output_type": "execute_result"
    }
   ],
   "source": [
    "str1 = \"sunday\"\n",
    "str2 = \"saturday\"\n",
    "edit_distance(str1, str2)"
   ]
  },
  {
   "cell_type": "code",
   "execution_count": null,
   "id": "4a4e1acb",
   "metadata": {},
   "outputs": [],
   "source": []
  }
 ],
 "metadata": {
  "kernelspec": {
   "display_name": "Python 3 (ipykernel)",
   "language": "python",
   "name": "python3"
  },
  "language_info": {
   "codemirror_mode": {
    "name": "ipython",
    "version": 3
   },
   "file_extension": ".py",
   "mimetype": "text/x-python",
   "name": "python",
   "nbconvert_exporter": "python",
   "pygments_lexer": "ipython3",
   "version": "3.8.12"
  }
 },
 "nbformat": 4,
 "nbformat_minor": 5
}
