{
 "cells": [
  {
   "cell_type": "code",
   "execution_count": 1,
   "id": "d8834df3",
   "metadata": {},
   "outputs": [],
   "source": [
    "%load_ext autoreload\n",
    "%autoreload 2"
   ]
  },
  {
   "cell_type": "code",
   "execution_count": 2,
   "id": "e3ea219c",
   "metadata": {},
   "outputs": [],
   "source": [
    "#hide\n",
    "from nbdev.showdoc import *"
   ]
  },
  {
   "cell_type": "code",
   "execution_count": 9,
   "id": "73e905d2",
   "metadata": {},
   "outputs": [],
   "source": [
    "def unorder_permutation(a, k):\n",
    "    sz = len(a)\n",
    "    if k >= sz:\n",
    "        yield a\n",
    "        return\n",
    "        \n",
    "    yield from unorder_permutation(a, k+1)\n",
    "    for i in range(k+1, sz):\n",
    "        a[k], a[i] = a[i], a[k]\n",
    "        yield from unorder_permutation(a, k+1)\n",
    "        a[k], a[i] = a[i], a[k]\n"
   ]
  },
  {
   "cell_type": "code",
   "execution_count": 11,
   "id": "4e900a07",
   "metadata": {},
   "outputs": [
    {
     "name": "stdout",
     "output_type": "stream",
     "text": [
      "[1, 2, 3, 4]\n",
      "[1, 2, 4, 3]\n",
      "[1, 3, 2, 4]\n",
      "[1, 3, 4, 2]\n",
      "[1, 4, 3, 2]\n",
      "[1, 4, 2, 3]\n",
      "[2, 1, 3, 4]\n",
      "[2, 1, 4, 3]\n",
      "[2, 3, 1, 4]\n",
      "[2, 3, 4, 1]\n",
      "[2, 4, 3, 1]\n",
      "[2, 4, 1, 3]\n",
      "[3, 2, 1, 4]\n",
      "[3, 2, 4, 1]\n",
      "[3, 1, 2, 4]\n",
      "[3, 1, 4, 2]\n",
      "[3, 4, 1, 2]\n",
      "[3, 4, 2, 1]\n",
      "[4, 2, 3, 1]\n",
      "[4, 2, 1, 3]\n",
      "[4, 3, 2, 1]\n",
      "[4, 3, 1, 2]\n",
      "[4, 1, 3, 2]\n",
      "[4, 1, 2, 3]\n"
     ]
    },
    {
     "data": {
      "text/plain": [
       "24"
      ]
     },
     "execution_count": 11,
     "metadata": {},
     "output_type": "execute_result"
    }
   ],
   "source": [
    "a = [1, 2, 3, 4]\n",
    "sz = 0\n",
    "for s in unorder_permutation(a, 0):\n",
    "    sz += 1\n",
    "    print(s)\n",
    "    \n",
    "sz\n"
   ]
  },
  {
   "cell_type": "code",
   "execution_count": 18,
   "id": "1ff64ca6",
   "metadata": {},
   "outputs": [],
   "source": [
    "def permutation(a, k):\n",
    "    sz = len(a)\n",
    "    if k >= sz:\n",
    "        yield a\n",
    "        return\n",
    "        \n",
    "    yield from permutation(a, k+1)\n",
    "    for i in range(k+1, sz):\n",
    "        a[k], a[i] = a[i], a[k]\n",
    "        yield from permutation(a, k+1)\n",
    "    #restore as a[sz-1] is in k position\n",
    "    x = a[k]\n",
    "    for i in range(k+1, sz):\n",
    "        a[i - 1] = a[i]\n",
    "    a[sz-1] = x\n",
    "        \n"
   ]
  },
  {
   "cell_type": "code",
   "execution_count": 19,
   "id": "dc6b1f2e",
   "metadata": {},
   "outputs": [
    {
     "name": "stdout",
     "output_type": "stream",
     "text": [
      "[1, 2, 3, 4]\n",
      "[1, 2, 4, 3]\n",
      "[1, 3, 2, 4]\n",
      "[1, 3, 4, 2]\n",
      "[1, 4, 2, 3]\n",
      "[1, 4, 3, 2]\n",
      "[2, 1, 3, 4]\n",
      "[2, 1, 4, 3]\n",
      "[2, 3, 1, 4]\n",
      "[2, 3, 4, 1]\n",
      "[2, 4, 1, 3]\n",
      "[2, 4, 3, 1]\n",
      "[3, 1, 2, 4]\n",
      "[3, 1, 4, 2]\n",
      "[3, 2, 1, 4]\n",
      "[3, 2, 4, 1]\n",
      "[3, 4, 1, 2]\n",
      "[3, 4, 2, 1]\n",
      "[4, 1, 2, 3]\n",
      "[4, 1, 3, 2]\n",
      "[4, 2, 1, 3]\n",
      "[4, 2, 3, 1]\n",
      "[4, 3, 1, 2]\n",
      "[4, 3, 2, 1]\n"
     ]
    },
    {
     "data": {
      "text/plain": [
       "24"
      ]
     },
     "execution_count": 19,
     "metadata": {},
     "output_type": "execute_result"
    }
   ],
   "source": [
    "a = [1, 2, 3, 4]\n",
    "sz = 0\n",
    "for s in permutation(a, 0):\n",
    "    sz += 1\n",
    "    print(s)\n",
    "sz"
   ]
  },
  {
   "cell_type": "code",
   "execution_count": 15,
   "id": "5c44cd50",
   "metadata": {},
   "outputs": [
    {
     "data": {
      "text/plain": [
       "[1, 2, 3, 4]"
      ]
     },
     "execution_count": 15,
     "metadata": {},
     "output_type": "execute_result"
    }
   ],
   "source": [
    "a"
   ]
  },
  {
   "cell_type": "code",
   "execution_count": 21,
   "id": "6c80b3b0",
   "metadata": {},
   "outputs": [],
   "source": [
    "# the bottom half are reverse order\n",
    "# let restore it to origin and remember the position\n",
    "def _reverse_bottom_order(a):\n",
    "    n = len(a)\n",
    "    i = n - 1\n",
    "    #find i such that a[i-1] >= a[i]\n",
    "    while i > 0 and a[i - 1] > a[i]:\n",
    "        i -= 1\n",
    "        \n",
    "    #restore reverse bottom\n",
    "    j = i\n",
    "    k = n - 1\n",
    "    while j < k:\n",
    "        a[j], a[k] = a[k], a[j]\n",
    "        j += 1\n",
    "        k -= 1\n",
    "    return i\n",
    "\n",
    "# no recursive\n",
    "def _permuation(a):\n",
    "    i = _reverse_bottom_order(a)\n",
    "    if i == 0:\n",
    "        return False\n",
    "    \n",
    "    # search the right position to insert a[i-1]\n",
    "    j = i\n",
    "    while a[j] < a[i - 1]:\n",
    "        j += 1\n",
    "    a[i - 1], a[j] = a[j], a[i - 1]\n",
    "    return True\n",
    "\n",
    "def permuation(a):\n",
    "    a = sorted(a)\n",
    "    while _permuation(a):\n",
    "        yield a\n"
   ]
  },
  {
   "cell_type": "code",
   "execution_count": 22,
   "id": "18949bd2",
   "metadata": {},
   "outputs": [
    {
     "name": "stdout",
     "output_type": "stream",
     "text": [
      "[1, 2, 3, 4]\n",
      "[1, 2, 4, 3]\n",
      "[1, 3, 2, 4]\n",
      "[1, 3, 4, 2]\n",
      "[1, 4, 2, 3]\n",
      "[1, 4, 3, 2]\n",
      "[2, 1, 3, 4]\n",
      "[2, 1, 4, 3]\n",
      "[2, 3, 1, 4]\n",
      "[2, 3, 4, 1]\n",
      "[2, 4, 1, 3]\n",
      "[2, 4, 3, 1]\n",
      "[3, 1, 2, 4]\n",
      "[3, 1, 4, 2]\n",
      "[3, 2, 1, 4]\n",
      "[3, 2, 4, 1]\n",
      "[3, 4, 1, 2]\n",
      "[3, 4, 2, 1]\n",
      "[4, 1, 2, 3]\n",
      "[4, 1, 3, 2]\n",
      "[4, 2, 1, 3]\n",
      "[4, 2, 3, 1]\n",
      "[4, 3, 1, 2]\n",
      "[4, 3, 2, 1]\n"
     ]
    },
    {
     "data": {
      "text/plain": [
       "24"
      ]
     },
     "execution_count": 22,
     "metadata": {},
     "output_type": "execute_result"
    }
   ],
   "source": [
    "a = [1, 2, 3, 4]\n",
    "sz = 0\n",
    "for s in permutation(a, 0):\n",
    "    sz += 1\n",
    "    print(s)\n",
    "sz"
   ]
  },
  {
   "cell_type": "code",
   "execution_count": 23,
   "id": "6d940fac",
   "metadata": {},
   "outputs": [
    {
     "data": {
      "text/plain": [
       "[1, 2, 3, 4]"
      ]
     },
     "execution_count": 23,
     "metadata": {},
     "output_type": "execute_result"
    }
   ],
   "source": [
    "a"
   ]
  },
  {
   "cell_type": "code",
   "execution_count": null,
   "id": "6bd3af8c",
   "metadata": {},
   "outputs": [],
   "source": []
  }
 ],
 "metadata": {
  "kernelspec": {
   "display_name": "Python 3 (ipykernel)",
   "language": "python",
   "name": "python3"
  },
  "language_info": {
   "codemirror_mode": {
    "name": "ipython",
    "version": 3
   },
   "file_extension": ".py",
   "mimetype": "text/x-python",
   "name": "python",
   "nbconvert_exporter": "python",
   "pygments_lexer": "ipython3",
   "version": "3.8.12"
  }
 },
 "nbformat": 4,
 "nbformat_minor": 5
}
