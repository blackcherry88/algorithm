{
 "cells": [
  {
   "cell_type": "code",
   "execution_count": 1,
   "id": "377206d9",
   "metadata": {},
   "outputs": [],
   "source": [
    "%load_ext autoreload\n",
    "%autoreload 2"
   ]
  },
  {
   "cell_type": "code",
   "execution_count": 3,
   "id": "2dc93a1f",
   "metadata": {},
   "outputs": [],
   "source": [
    "#hide\n",
    "from nbdev.showdoc import *"
   ]
  },
  {
   "cell_type": "code",
   "execution_count": 35,
   "id": "84a1ca6e",
   "metadata": {},
   "outputs": [],
   "source": [
    "from collections import defaultdict\n",
    "    \n",
    "\n",
    "def is_scheduleable(n, conds):\n",
    "    edges = defaultdict(list)\n",
    "    for c, p in conds:\n",
    "        edges[p].append(c)\n",
    "        \n",
    "    print(f\"Edge is {edges}\")\n",
    "    # 0: not visited, 1: visiting, 2:visited\n",
    "    visited = [0] * n\n",
    "    \n",
    "    def _is_scheduleable(c):\n",
    "        if visited[c] == 1:\n",
    "            print(f\"{c} is already in ancestor\")\n",
    "            return False\n",
    "        \n",
    "        if visited[c] == 2:\n",
    "            print(f\"{c} is already visited\")\n",
    "            return True\n",
    "        \n",
    "        visited[c] = 1\n",
    "        for child in edges[c]:\n",
    "            # check each child is schedulable\n",
    "            print(f\"Checking child {child} for parent {c}\")\n",
    "            if not _is_scheduleable(child):\n",
    "                print(f\"Can't scedule {child}\")\n",
    "                return False\n",
    "        # mark c visited\n",
    "        visited[c] = 2\n",
    "        return True\n",
    "\n",
    "    for c in range(n):\n",
    "        print(f\"Processing {c}\")\n",
    "        if not _is_scheduleable(c):\n",
    "            return False\n",
    "    return True\n",
    "    "
   ]
  },
  {
   "cell_type": "code",
   "execution_count": 36,
   "id": "4839b200",
   "metadata": {},
   "outputs": [
    {
     "name": "stdout",
     "output_type": "stream",
     "text": [
      "Edge is defaultdict(<class 'list'>, {1: [0], 0: [1]})\n",
      "Processing 0\n",
      "Checking child 1 for parent 0\n",
      "Checking child 0 for parent 1\n",
      "0 is already in ancestor\n",
      "Can't scedule 0\n",
      "Can't scedule 1\n"
     ]
    },
    {
     "data": {
      "text/plain": [
       "False"
      ]
     },
     "execution_count": 36,
     "metadata": {},
     "output_type": "execute_result"
    }
   ],
   "source": [
    "conds=[[0, 1], [1, 0]]\n",
    "is_scheduleable(2, conds)"
   ]
  },
  {
   "cell_type": "code",
   "execution_count": 37,
   "id": "589a7b1c",
   "metadata": {},
   "outputs": [
    {
     "name": "stdout",
     "output_type": "stream",
     "text": [
      "Edge is defaultdict(<class 'list'>, {0: [1], 1: [2]})\n",
      "Processing 0\n",
      "Checking child 1 for parent 0\n",
      "Checking child 2 for parent 1\n",
      "Processing 1\n",
      "1 is already visited\n",
      "Processing 2\n",
      "2 is already visited\n"
     ]
    },
    {
     "data": {
      "text/plain": [
       "True"
      ]
     },
     "execution_count": 37,
     "metadata": {},
     "output_type": "execute_result"
    }
   ],
   "source": [
    "conds=[[1, 0], [2, 1]]\n",
    "is_scheduleable(3, conds)"
   ]
  },
  {
   "cell_type": "code",
   "execution_count": null,
   "id": "ffbc3329",
   "metadata": {},
   "outputs": [],
   "source": []
  }
 ],
 "metadata": {
  "kernelspec": {
   "display_name": "Python 3 (ipykernel)",
   "language": "python",
   "name": "python3"
  },
  "language_info": {
   "codemirror_mode": {
    "name": "ipython",
    "version": 3
   },
   "file_extension": ".py",
   "mimetype": "text/x-python",
   "name": "python",
   "nbconvert_exporter": "python",
   "pygments_lexer": "ipython3",
   "version": "3.8.12"
  }
 },
 "nbformat": 4,
 "nbformat_minor": 5
}
