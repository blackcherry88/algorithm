{
 "cells": [
  {
   "cell_type": "code",
   "execution_count": 1,
   "id": "d8834df3",
   "metadata": {},
   "outputs": [],
   "source": [
    "%load_ext autoreload\n",
    "%autoreload 2"
   ]
  },
  {
   "cell_type": "code",
   "execution_count": 2,
   "id": "e3ea219c",
   "metadata": {},
   "outputs": [],
   "source": [
    "#hide\n",
    "from nbdev.showdoc import *"
   ]
  },
  {
   "cell_type": "code",
   "execution_count": 41,
   "id": "6bd3af8c",
   "metadata": {},
   "outputs": [],
   "source": [
    "from typing import List\n",
    "\n",
    "\n",
    "class TrieNode:\n",
    "    def __init__(self, terminal=False):\n",
    "        self.children = [None]*256\n",
    "        self.terminal = terminal\n",
    "        \n",
    "    def find_words(self, prefix):\n",
    "        r = []\n",
    "        if self.terminal:\n",
    "            r.append(prefix)\n",
    "        for i, c in enumerate(self.children):\n",
    "            if c is None:\n",
    "                continue\n",
    "            ch = chr(i)\n",
    "            r.extend(c.find_words(prefix+ch))\n",
    "        return r\n",
    "            \n",
    "    def __str__(self):\n",
    "        children = [chr(i) for i, c in enumerate(self.children) if c is not None]\n",
    "        return f\"(children:{','.join(children)}, terminal:{self.terminal})\"\n",
    "    \n",
    "    \n",
    "def print_trie(r: TrieNode, level=0):\n",
    "    if r is None:\n",
    "        return\n",
    "    \n",
    "    prefix = '-'*2*level\n",
    "    print(f\"{prefix}{r}\")\n",
    "    for child in r.children:\n",
    "        if child is None:\n",
    "            continue\n",
    "        print_trie(child, level+1)\n",
    "    \n",
    "    \n",
    "def insert(root: TrieNode, s:str) -> TrieNode:\n",
    "    sz = len(s)\n",
    "    if sz <= 0:\n",
    "        return root\n",
    "    \n",
    "    if root is None:\n",
    "        root = TrieNode()\n",
    "    t = root\n",
    "    for c in s:\n",
    "        ind = ord(c)\n",
    "        if t.children[ind] is None:\n",
    "            t.children[ind] = TrieNode()\n",
    "        t = t.children[ind]\n",
    "    \n",
    "    t.terminal = True\n",
    "    return root\n",
    "\n",
    "\n",
    "def query(root: TrieNode, prefix:str) -> List[str]:\n",
    "    sz = len(prefix)\n",
    "    if sz <= 0:\n",
    "        return []\n",
    "    t = root\n",
    "    for c in prefix:\n",
    "        ind = ord(c)\n",
    "        if t.children[ind] is None:\n",
    "            return []\n",
    "        t = t.children[ind]\n",
    "    return t.find_words(prefix)\n",
    "    \n",
    "    "
   ]
  },
  {
   "cell_type": "code",
   "execution_count": 46,
   "id": "562f6dd5",
   "metadata": {},
   "outputs": [
    {
     "data": {
      "text/plain": [
       "'(children:w, terminal:False)'"
      ]
     },
     "execution_count": 46,
     "metadata": {},
     "output_type": "execute_result"
    }
   ],
   "source": [
    "root = None\n",
    "root = insert(root, \"was\")\n",
    "root = insert(root, \"word\")\n",
    "root = insert(root, \"war\")\n",
    "root = insert(root, \"what\")\n",
    "root = insert(root, \"where\")\n",
    "str(root)"
   ]
  },
  {
   "cell_type": "code",
   "execution_count": 47,
   "id": "b2548682",
   "metadata": {},
   "outputs": [
    {
     "name": "stdout",
     "output_type": "stream",
     "text": [
      "(children:w, terminal:False)\n",
      "--(children:a,h,o, terminal:False)\n",
      "----(children:r,s, terminal:False)\n",
      "------(children:, terminal:True)\n",
      "------(children:, terminal:True)\n",
      "----(children:a,e, terminal:False)\n",
      "------(children:t, terminal:False)\n",
      "--------(children:, terminal:True)\n",
      "------(children:r, terminal:False)\n",
      "--------(children:e, terminal:False)\n",
      "----------(children:, terminal:True)\n",
      "----(children:r, terminal:False)\n",
      "------(children:d, terminal:False)\n",
      "--------(children:, terminal:True)\n"
     ]
    }
   ],
   "source": [
    "print_trie(root)"
   ]
  },
  {
   "cell_type": "code",
   "execution_count": 50,
   "id": "78f5c4e0",
   "metadata": {},
   "outputs": [
    {
     "data": {
      "text/plain": [
       "['what', 'where']"
      ]
     },
     "execution_count": 50,
     "metadata": {},
     "output_type": "execute_result"
    }
   ],
   "source": [
    "query(root, \"wh\")"
   ]
  },
  {
   "cell_type": "code",
   "execution_count": null,
   "id": "c22210ab",
   "metadata": {},
   "outputs": [],
   "source": []
  }
 ],
 "metadata": {
  "kernelspec": {
   "display_name": "Python 3 (ipykernel)",
   "language": "python",
   "name": "python3"
  },
  "language_info": {
   "codemirror_mode": {
    "name": "ipython",
    "version": 3
   },
   "file_extension": ".py",
   "mimetype": "text/x-python",
   "name": "python",
   "nbconvert_exporter": "python",
   "pygments_lexer": "ipython3",
   "version": "3.8.12"
  }
 },
 "nbformat": 4,
 "nbformat_minor": 5
}
