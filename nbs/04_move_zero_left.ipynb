{
 "cells": [
  {
   "cell_type": "code",
   "execution_count": 3,
   "id": "377206d9",
   "metadata": {},
   "outputs": [],
   "source": [
    "%load_ext autoreload\n",
    "%autoreload 2"
   ]
  },
  {
   "cell_type": "code",
   "execution_count": 2,
   "id": "6299c694",
   "metadata": {},
   "outputs": [],
   "source": [
    "def move_zero_left(a):\n",
    "    if a is None or len(a) <= 0:\n",
    "        return\n",
    "    \n",
    "    sz = len(a)\n",
    "    # i is current pos to store\n",
    "    i = sz - 1\n",
    "    # j is pos to check\n",
    "    j = sz - 1\n",
    "    while j >= 0:\n",
    "        if a[j] == 0:\n",
    "            j -= 1\n",
    "            continue\n",
    "        # not zero at j and j != i\n",
    "        if j != i:\n",
    "            a[i] = a[j]\n",
    "        i -= 1\n",
    "        j -= 1\n",
    "    \n",
    "    # fill zeros\n",
    "    while i >= 0:\n",
    "        a[i] = 0\n",
    "        i -= 1\n"
   ]
  },
  {
   "cell_type": "code",
   "execution_count": 1,
   "id": "5b7f613c",
   "metadata": {},
   "outputs": [
    {
     "data": {
      "text/plain": [
       "[0, 1, 2, 3, 4, 0, 6, 7, 8, 0]"
      ]
     },
     "execution_count": 1,
     "metadata": {},
     "output_type": "execute_result"
    }
   ],
   "source": [
    "a = list(range(10))\n",
    "a[9] = 0\n",
    "a[5] = 0\n",
    "a"
   ]
  },
  {
   "cell_type": "code",
   "execution_count": 3,
   "id": "5f43be13",
   "metadata": {},
   "outputs": [],
   "source": [
    "move_zero_left(a)"
   ]
  },
  {
   "cell_type": "code",
   "execution_count": 4,
   "id": "2a2d71e6",
   "metadata": {},
   "outputs": [
    {
     "data": {
      "text/plain": [
       "[0, 0, 0, 1, 2, 3, 4, 6, 7, 8]"
      ]
     },
     "execution_count": 4,
     "metadata": {},
     "output_type": "execute_result"
    }
   ],
   "source": [
    "a"
   ]
  },
  {
   "cell_type": "code",
   "execution_count": null,
   "id": "090a1d96",
   "metadata": {},
   "outputs": [],
   "source": []
  }
 ],
 "metadata": {
  "kernelspec": {
   "display_name": "Python 3 (ipykernel)",
   "language": "python",
   "name": "python3"
  },
  "language_info": {
   "codemirror_mode": {
    "name": "ipython",
    "version": 3
   },
   "file_extension": ".py",
   "mimetype": "text/x-python",
   "name": "python",
   "nbconvert_exporter": "python",
   "pygments_lexer": "ipython3",
   "version": "3.8.12"
  }
 },
 "nbformat": 4,
 "nbformat_minor": 5
}
