{
 "cells": [
  {
   "cell_type": "code",
   "execution_count": 1,
   "id": "d8834df3",
   "metadata": {},
   "outputs": [],
   "source": [
    "%load_ext autoreload\n",
    "%autoreload 2"
   ]
  },
  {
   "cell_type": "code",
   "execution_count": 2,
   "id": "e3ea219c",
   "metadata": {},
   "outputs": [],
   "source": [
    "#hide\n",
    "from nbdev.showdoc import *"
   ]
  },
  {
   "cell_type": "code",
   "execution_count": 17,
   "id": "4e900a07",
   "metadata": {},
   "outputs": [],
   "source": [
    "from typing import List\n",
    "from algorithm.core.ds.tree import Node, create_tree\n",
    "\n",
    "\n",
    "def path_sum(root: Node, t: int) -> List[Node]:\n",
    "    result = []\n",
    "    \n",
    "    # quick checking\n",
    "    if root is None:\n",
    "        return result\n",
    "\n",
    "    def _helper(r, prefix, s):\n",
    "        prefix.append(r.val)\n",
    "        sz = len(prefix)\n",
    "        s += r.val\n",
    "        if r.left is None and \\\n",
    "            s == t and \\\n",
    "            r.right is None:\n",
    "            result.append(prefix[:sz])\n",
    "            return\n",
    "        \n",
    "        if r.left:\n",
    "            _helper(r.left, prefix, s)\n",
    "        if r.right:\n",
    "            _helper(r.right, prefix[:sz], s)\n",
    "            \n",
    "    _helper(root, [], 0)\n",
    "    return result"
   ]
  },
  {
   "cell_type": "code",
   "execution_count": 18,
   "id": "f4b43306",
   "metadata": {},
   "outputs": [
    {
     "name": "stdout",
     "output_type": "stream",
     "text": [
      "**2\n",
      "*3\n",
      "***1\n",
      "**1\n",
      "1\n",
      "***1\n",
      "**4\n",
      "***2\n",
      "*-1\n",
      "**5\n",
      "***6\n"
     ]
    }
   ],
   "source": [
    "root = create_tree([1, 3, 2, None, None, 1, 1, None, None, \n",
    "                    None, -1, 4, 1, None, None, 2, None, None, \n",
    "                    5, None, 6, None, None])\n",
    "root.print_tree()"
   ]
  },
  {
   "cell_type": "code",
   "execution_count": 19,
   "id": "c5f2886f",
   "metadata": {},
   "outputs": [
    {
     "data": {
      "text/plain": [
       "[[1, 3, 2], [1, 3, 1, 1], [1, -1, 4, 2]]"
      ]
     },
     "execution_count": 19,
     "metadata": {},
     "output_type": "execute_result"
    }
   ],
   "source": [
    "path_sum(root, 6)"
   ]
  },
  {
   "cell_type": "code",
   "execution_count": 48,
   "id": "17b59b7c",
   "metadata": {},
   "outputs": [],
   "source": [
    "def path_sum2(root: Node, prefix, k: int):\n",
    "    # double checking\n",
    "    if root is None:\n",
    "        return\n",
    "    \n",
    "    # remember we share prefix\n",
    "    # one way is don't share prefix\n",
    "    prefix.append(root.val)\n",
    "    \n",
    "    s = 0\n",
    "    for j in range(len(prefix)-1, -1, -1):\n",
    "        s += prefix[j]\n",
    "        if s == k:\n",
    "            yield prefix[j:]\n",
    "\n",
    "    if root.left:\n",
    "        yield from path_sum2(root.left, prefix, k)\n",
    "        \n",
    "    if root.right:\n",
    "        yield from path_sum2(root.right, prefix, k)\n",
    "        \n",
    "    # this is important\n",
    "    prefix.pop(-1)\n"
   ]
  },
  {
   "cell_type": "code",
   "execution_count": 49,
   "id": "73c45410",
   "metadata": {},
   "outputs": [
    {
     "name": "stdout",
     "output_type": "stream",
     "text": [
      "[3, 2]\n",
      "[1, 3, 1]\n",
      "[3, 1, 1]\n",
      "[4, 1]\n",
      "[1, -1, 4, 1]\n",
      "[-1, 4, 2]\n",
      "[5]\n",
      "[1, -1, 5]\n"
     ]
    }
   ],
   "source": [
    "for s in path_sum2(root, [], 5):\n",
    "    print(s)"
   ]
  },
  {
   "cell_type": "code",
   "execution_count": null,
   "id": "bde5170a",
   "metadata": {},
   "outputs": [],
   "source": []
  }
 ],
 "metadata": {
  "kernelspec": {
   "display_name": "Python 3 (ipykernel)",
   "language": "python",
   "name": "python3"
  },
  "language_info": {
   "codemirror_mode": {
    "name": "ipython",
    "version": 3
   },
   "file_extension": ".py",
   "mimetype": "text/x-python",
   "name": "python",
   "nbconvert_exporter": "python",
   "pygments_lexer": "ipython3",
   "version": "3.8.12"
  }
 },
 "nbformat": 4,
 "nbformat_minor": 5
}
