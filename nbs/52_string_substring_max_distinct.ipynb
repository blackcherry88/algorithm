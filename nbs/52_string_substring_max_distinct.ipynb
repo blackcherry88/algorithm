{
 "cells": [
  {
   "cell_type": "code",
   "execution_count": 1,
   "id": "d8834df3",
   "metadata": {},
   "outputs": [],
   "source": [
    "%load_ext autoreload\n",
    "%autoreload 2"
   ]
  },
  {
   "cell_type": "code",
   "execution_count": 2,
   "id": "e3ea219c",
   "metadata": {},
   "outputs": [],
   "source": [
    "#hide\n",
    "from nbdev.showdoc import *"
   ]
  },
  {
   "cell_type": "code",
   "execution_count": 22,
   "id": "332a9af6",
   "metadata": {},
   "outputs": [],
   "source": [
    "def _find_max_subs_starting_at(s, i, k):\n",
    "    sz = len(s)\n",
    "    c = set()\n",
    "    for j in range(i, sz):\n",
    "        c.add(s[j])\n",
    "        if len(c) > k:\n",
    "            return [i, j, k]\n",
    "    return [i, sz, len(c)]\n",
    "\n",
    "\n",
    "def _is_in(s, i, b, e):\n",
    "    for j in range(b, e):\n",
    "        if s[i] == s[j]:\n",
    "            return True\n",
    "    return False\n",
    "\n",
    "\n",
    "def max_subs_with_k(s, k):\n",
    "    if k <= 0:\n",
    "        return \"\"\n",
    "    \n",
    "    sz = len(s)\n",
    "    if sz <= 0:\n",
    "        return \"\"\n",
    "    \n",
    "    i = sz - 2\n",
    "    b = sz - 1\n",
    "    e = sz\n",
    "    d = 1\n",
    "\n",
    "    # b means begin, e means end, d means # of distinct\n",
    "    r = [b, e, d]\n",
    "    current = [b, e, d]\n",
    "    \n",
    "    while i >= 0:\n",
    "        b, e, d = current\n",
    "        if d < k:\n",
    "            # add current position\n",
    "            if not _is_in(s, i, current[0], current[1]):\n",
    "                current[2] += 1\n",
    "            current[0] = i\n",
    "        else:\n",
    "            # d >= k:\n",
    "            current = _find_max_subs_starting_at(s, i, k)\n",
    "            \n",
    "        if current[1] - current[0] > r[1] - r[0]:\n",
    "            r = [x for x in current]\n",
    "        i -= 1\n",
    "    \n",
    "    return s[r[0]:r[1]]\n",
    "    \n"
   ]
  },
  {
   "cell_type": "code",
   "execution_count": 23,
   "id": "158d7800",
   "metadata": {},
   "outputs": [
    {
     "name": "stdout",
     "output_type": "stream",
     "text": [
      "CCC at 3-> [4, 5, 2]\n",
      "AAA at 3-> [3, 5, 2] vs [3, 5, 2]\n",
      "BBB at 2-> [2, 4, 2]\n",
      "BBB at 1-> [1, 3, 2]\n",
      "BBB at 0-> [0, 3, 2]\n",
      "AAA at 0-> [0, 3, 2] vs [0, 3, 2]\n"
     ]
    },
    {
     "data": {
      "text/plain": [
       "'ece'"
      ]
     },
     "execution_count": 23,
     "metadata": {},
     "output_type": "execute_result"
    }
   ],
   "source": [
    "s = \"eceba\"\n",
    "k = 2\n",
    "max_subs_with_k(s, k)"
   ]
  },
  {
   "cell_type": "code",
   "execution_count": 32,
   "id": "d5c67ee0",
   "metadata": {},
   "outputs": [],
   "source": [
    "from collections import defaultdict\n",
    "\n",
    "\n",
    "# try to loop from end position\n",
    "def max_subs_with_at_most_k(s, k):\n",
    "    # answer\n",
    "    r = (0, 0)\n",
    "    \n",
    "    i = 0\n",
    "    j = 0\n",
    "    c = 0\n",
    "    sz = len(s)\n",
    "    m = defaultdict(int)\n",
    "    while i < sz:\n",
    "        m[s[i]] += 1\n",
    "        # new added\n",
    "        if m[s[i]] == 1:\n",
    "            c += 1\n",
    "        \n",
    "        while c > k and j <= i:\n",
    "            m[s[j]] -= 1\n",
    "            if m[s[j]] == 0:\n",
    "                c -= 1\n",
    "            j += 1\n",
    "\n",
    "        i += 1\n",
    "        if i - j > r[1] - r[0]:\n",
    "            r = (j, i)\n",
    "            \n",
    "    return s[r[0]:r[1]]"
   ]
  },
  {
   "cell_type": "code",
   "execution_count": 33,
   "id": "a8d9ea7e",
   "metadata": {},
   "outputs": [
    {
     "data": {
      "text/plain": [
       "'ece'"
      ]
     },
     "execution_count": 33,
     "metadata": {},
     "output_type": "execute_result"
    }
   ],
   "source": [
    "s = \"eceba\"\n",
    "k = 2\n",
    "\n",
    "max_subs_with_at_most_k(s, k)"
   ]
  },
  {
   "cell_type": "code",
   "execution_count": null,
   "id": "c9251790",
   "metadata": {},
   "outputs": [],
   "source": []
  }
 ],
 "metadata": {
  "kernelspec": {
   "display_name": "Python 3 (ipykernel)",
   "language": "python",
   "name": "python3"
  },
  "language_info": {
   "codemirror_mode": {
    "name": "ipython",
    "version": 3
   },
   "file_extension": ".py",
   "mimetype": "text/x-python",
   "name": "python",
   "nbconvert_exporter": "python",
   "pygments_lexer": "ipython3",
   "version": "3.8.12"
  }
 },
 "nbformat": 4,
 "nbformat_minor": 5
}
