{
 "cells": [
  {
   "cell_type": "code",
   "execution_count": 1,
   "id": "d8834df3",
   "metadata": {},
   "outputs": [],
   "source": [
    "%load_ext autoreload\n",
    "%autoreload 2"
   ]
  },
  {
   "cell_type": "code",
   "execution_count": 2,
   "id": "e3ea219c",
   "metadata": {},
   "outputs": [],
   "source": [
    "#hide\n",
    "from nbdev.showdoc import *"
   ]
  },
  {
   "cell_type": "code",
   "execution_count": 7,
   "id": "c3c9ec7b",
   "metadata": {},
   "outputs": [],
   "source": [
    "def count_and_say(n):\n",
    "    assert n >= 1\n",
    "    if n == 1:\n",
    "        return \"1\"\n",
    "    s = count_and_say(n-1)\n",
    "    \n",
    "    sz = len(s)\n",
    "    i = 0\n",
    "    j = 1\n",
    "    c = 1\n",
    "    r = []\n",
    "    while j < sz:\n",
    "        if s[j] == s[i]:\n",
    "            c += 1\n",
    "            j += 1\n",
    "            continue\n",
    "        \n",
    "        r.append(str(c))\n",
    "        r.append(s[i])\n",
    "        i = j\n",
    "        c = 1\n",
    "        j += 1\n",
    "        \n",
    "    r.append(str(c))\n",
    "    r.append(str(s[i]))\n",
    "    print(f\"{n} is {r}\")\n",
    "    return \"\".join(r)\n",
    "    "
   ]
  },
  {
   "cell_type": "code",
   "execution_count": 9,
   "id": "4cdd6942",
   "metadata": {},
   "outputs": [
    {
     "name": "stdout",
     "output_type": "stream",
     "text": [
      "2 is ['1', '1']\n",
      "3 is ['2', '1']\n",
      "4 is ['1', '2', '1', '1']\n",
      "5 is ['1', '1', '1', '2', '2', '1']\n"
     ]
    },
    {
     "data": {
      "text/plain": [
       "'111221'"
      ]
     },
     "execution_count": 9,
     "metadata": {},
     "output_type": "execute_result"
    }
   ],
   "source": [
    "count_and_say(5)"
   ]
  },
  {
   "cell_type": "code",
   "execution_count": null,
   "id": "0ae7bd3d",
   "metadata": {},
   "outputs": [],
   "source": []
  }
 ],
 "metadata": {
  "kernelspec": {
   "display_name": "Python 3 (ipykernel)",
   "language": "python",
   "name": "python3"
  },
  "language_info": {
   "codemirror_mode": {
    "name": "ipython",
    "version": 3
   },
   "file_extension": ".py",
   "mimetype": "text/x-python",
   "name": "python",
   "nbconvert_exporter": "python",
   "pygments_lexer": "ipython3",
   "version": "3.8.12"
  }
 },
 "nbformat": 4,
 "nbformat_minor": 5
}
