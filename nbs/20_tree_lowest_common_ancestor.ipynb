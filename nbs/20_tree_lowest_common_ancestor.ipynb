{
 "cells": [
  {
   "cell_type": "code",
   "execution_count": 1,
   "id": "377206d9",
   "metadata": {},
   "outputs": [],
   "source": [
    "%load_ext autoreload\n",
    "%autoreload 2"
   ]
  },
  {
   "cell_type": "code",
   "execution_count": null,
   "id": "7c54dd14",
   "metadata": {},
   "outputs": [],
   "source": [
    "# default_exp core.ds.tree"
   ]
  },
  {
   "cell_type": "code",
   "execution_count": 3,
   "id": "2dc93a1f",
   "metadata": {},
   "outputs": [],
   "source": [
    "#hide\n",
    "from nbdev.showdoc import *"
   ]
  },
  {
   "cell_type": "code",
   "execution_count": 30,
   "id": "f41e886f",
   "metadata": {},
   "outputs": [],
   "source": [
    "# export\n",
    "\n",
    "class Node:\n",
    "    def __init__(self, x):\n",
    "        self.val = x\n",
    "        self.left = None\n",
    "        self.right = None\n",
    "        \n",
    "    def left_most(self):\n",
    "        p = self\n",
    "        while p.left is not None:\n",
    "            p = p.left\n",
    "        return p\n",
    "        \n",
    "    def right_most(self):\n",
    "        p = self\n",
    "        while p.right is not None:\n",
    "            p = p.right\n",
    "        return p\n",
    "    \n",
    "    def __str__(self):\n",
    "        return f\"{self.val}\"\n",
    "    \n",
    "\n",
    "    def print_tree(self, level=0):\n",
    "        if self.left:\n",
    "            self.left.print_tree(level+1)\n",
    "        prefix = '*'*level\n",
    "        print(f\"{prefix}{self.val}\")\n",
    "        if self.right:\n",
    "            self.right.print_tree(level+1)\n",
    "        \n",
    "\n",
    "def _create_tree(a, i, sz):\n",
    "    if i >= sz:\n",
    "        return None, 0\n",
    "    \n",
    "    if a[i] is None:\n",
    "        return None, 1\n",
    "    \n",
    "    n = Node(a[i])\n",
    "    n.left, l_sz = _create_tree(a, i+1, sz)\n",
    "    n.right, r_sz = _create_tree(a, i+1+l_sz, sz)\n",
    "    return n, 1+l_sz+r_sz\n",
    "\n",
    "\n",
    "def create_tree(a):\n",
    "    if a is None:\n",
    "        return None\n",
    "    \n",
    "    r, _ = _create_tree(a, 0, len(a))\n",
    "    return r\n",
    "\n",
    "\n",
    "def bst_successor(key, root: Node) -> Node:\n",
    "    if root is None:\n",
    "        return None\n",
    "    \n",
    "    if key < root.val:\n",
    "        #left\n",
    "        s = bst_successor(key, root.left)\n",
    "        if s is None:\n",
    "            return root\n",
    "        return s\n",
    "    elif key == root.val:\n",
    "        if root.right is None:\n",
    "            return None\n",
    "        return root.right.left_most()\n",
    "    else:\n",
    "        return bst_successor(key, root.right)\n",
    "    \n",
    "    \n",
    "def bst_precessor(key, root: Node) -> Node:\n",
    "    if root is None:\n",
    "        return None\n",
    "    \n",
    "    if key < root.val:\n",
    "        # left\n",
    "        return bst_precessor(key, root.left)\n",
    "    elif key == root.val:\n",
    "        if root.left is None:\n",
    "            return None\n",
    "        return root.left.right_most()\n",
    "    else:\n",
    "        s = bst_successor(key, root.right)\n",
    "        return s if s is not None else root\n",
    "    \n",
    "    \n",
    "def bst_insert(root: Node, v) -> Node:\n",
    "    if root is None:\n",
    "        return Node(v)\n",
    "\n",
    "    if v < root.val:\n",
    "        temp = bst_insert(root.left, v)\n",
    "        if root.left is None:\n",
    "            root.left = temp\n",
    "    elif v > root.val: \n",
    "        temp = bst_insert(root.right, v)\n",
    "        if root.right is None:\n",
    "            root.right = temp\n",
    "    else:\n",
    "        pass\n",
    "    return root"
   ]
  },
  {
   "cell_type": "code",
   "execution_count": 31,
   "id": "75bbe4d4",
   "metadata": {},
   "outputs": [
    {
     "name": "stdout",
     "output_type": "stream",
     "text": [
      "**4\n",
      "*8\n",
      "***10\n",
      "**12\n",
      "***14\n",
      "20\n",
      "*22\n"
     ]
    }
   ],
   "source": [
    "root = None\n",
    "root = bst_insert(root, 20)\n",
    "root = bst_insert(root, 8);\n",
    "root = bst_insert(root, 22);\n",
    "root = bst_insert(root, 4);\n",
    "root = bst_insert(root, 12);\n",
    "root = bst_insert(root, 10); \n",
    "root = bst_insert(root, 14); \n",
    "root.print_tree()    "
   ]
  },
  {
   "cell_type": "code",
   "execution_count": 32,
   "id": "b3a06cd5",
   "metadata": {},
   "outputs": [
    {
     "data": {
      "text/plain": [
       "'22'"
      ]
     },
     "execution_count": 32,
     "metadata": {},
     "output_type": "execute_result"
    }
   ],
   "source": [
    "p = bst_successor(20, root)\n",
    "str(p)"
   ]
  },
  {
   "cell_type": "code",
   "execution_count": 33,
   "id": "3ba05d67",
   "metadata": {},
   "outputs": [
    {
     "data": {
      "text/plain": [
       "'20'"
      ]
     },
     "execution_count": 33,
     "metadata": {},
     "output_type": "execute_result"
    }
   ],
   "source": [
    "p = bst_successor(14, root)\n",
    "str(p)"
   ]
  },
  {
   "cell_type": "code",
   "execution_count": 7,
   "id": "ffbc3329",
   "metadata": {},
   "outputs": [],
   "source": [
    "def lca(root: Node, p, q) -> Node:\n",
    "    assert p is not None\n",
    "    assert q is not None        \n",
    "    if root is None:\n",
    "        return None\n",
    "        \n",
    "    if p >= q:\n",
    "        large = p\n",
    "        small = q\n",
    "    else:\n",
    "        large = q\n",
    "        small = p\n",
    "        \n",
    "    if large < root.val:\n",
    "        # both small\n",
    "        return lca(root.left, p, q)\n",
    "    elif small > root.val:\n",
    "        # both large\n",
    "        return lca(root.right, p, q)\n",
    "    else:\n",
    "        # root is in the middle\n",
    "        return root"
   ]
  },
  {
   "cell_type": "code",
   "execution_count": 25,
   "id": "09b4a611",
   "metadata": {},
   "outputs": [
    {
     "name": "stdout",
     "output_type": "stream",
     "text": [
      "**4\n",
      "*8\n",
      "**12\n",
      "20\n",
      "**10\n",
      "*22\n",
      "**14\n"
     ]
    }
   ],
   "source": [
    "a = [20, 8, 4, None, None, 12, None, None, 22, 10, None, None, 14, None, None]\n",
    "\n",
    "root = create_tree(a)\n",
    "\n",
    "root.print_tree()\n"
   ]
  },
  {
   "cell_type": "code",
   "execution_count": 26,
   "id": "fb02c2cd",
   "metadata": {},
   "outputs": [
    {
     "name": "stdout",
     "output_type": "stream",
     "text": [
      "LCA of 10 and 14 is 12\n",
      "LCA of 14 and 8 is 8\n",
      "LCA of 10 and 22 is 20\n"
     ]
    }
   ],
   "source": [
    "n1 = 10 ; n2 = 14\n",
    "t = lca(root, n1, n2)\n",
    "print (\"LCA of %d and %d is %d\" %(n1, n2, t.val))\n",
    "\n",
    "n1 = 14 ; n2 = 8\n",
    "t = lca(root, n1, n2)\n",
    "print (\"LCA of %d and %d is %d\" %(n1, n2 , t.val))\n",
    " \n",
    "n1 = 10 ; n2 = 22\n",
    "t = lca(root, n1, n2)\n",
    "print (\"LCA of %d and %d is %d\" %(n1, n2, t.val))"
   ]
  },
  {
   "cell_type": "code",
   "execution_count": null,
   "id": "6e0354e9",
   "metadata": {},
   "outputs": [],
   "source": []
  }
 ],
 "metadata": {
  "kernelspec": {
   "display_name": "Python 3 (ipykernel)",
   "language": "python",
   "name": "python3"
  },
  "language_info": {
   "codemirror_mode": {
    "name": "ipython",
    "version": 3
   },
   "file_extension": ".py",
   "mimetype": "text/x-python",
   "name": "python",
   "nbconvert_exporter": "python",
   "pygments_lexer": "ipython3",
   "version": "3.8.12"
  }
 },
 "nbformat": 4,
 "nbformat_minor": 5
}
