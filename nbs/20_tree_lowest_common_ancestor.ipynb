{
 "cells": [
  {
   "cell_type": "code",
   "execution_count": 1,
   "id": "377206d9",
   "metadata": {},
   "outputs": [],
   "source": [
    "%load_ext autoreload\n",
    "%autoreload 2"
   ]
  },
  {
   "cell_type": "code",
   "execution_count": 3,
   "id": "2dc93a1f",
   "metadata": {},
   "outputs": [],
   "source": [
    "#hide\n",
    "from nbdev.showdoc import *"
   ]
  },
  {
   "cell_type": "code",
   "execution_count": 3,
   "id": "ffbc3329",
   "metadata": {},
   "outputs": [],
   "source": [
    "# Definition for a binary tree node.\n",
    "class Node:\n",
    "    def __init__(self, x):\n",
    "        self.val = x\n",
    "        self.left = None\n",
    "        self.right = None\n",
    "\n",
    "\n",
    "def lca(root: Node, p, q) -> Node:\n",
    "    assert p is not None\n",
    "    assert q is not None        \n",
    "    if root is None:\n",
    "        return None\n",
    "        \n",
    "    if p >= q:\n",
    "        large = p\n",
    "        small = q\n",
    "    else:\n",
    "        large = q\n",
    "        small = p\n",
    "        \n",
    "    if large < root.val:\n",
    "        # both small\n",
    "        return lca(root.left, p, q)\n",
    "    elif small > root.val:\n",
    "        # both large\n",
    "        return lca(root.right, p, q)\n",
    "    else:\n",
    "        # root is in the middle\n",
    "        return root\n"
   ]
  },
  {
   "cell_type": "code",
   "execution_count": 4,
   "id": "09b4a611",
   "metadata": {},
   "outputs": [],
   "source": [
    "root = Node(20)\n",
    "root.left = Node(8)\n",
    "root.right = Node(22)\n",
    "root.left.left = Node(4)\n",
    "root.left.right = Node(12)\n",
    "root.left.right.left = Node(10)\n",
    "root.left.right.right = Node(14)"
   ]
  },
  {
   "cell_type": "code",
   "execution_count": 9,
   "id": "fb02c2cd",
   "metadata": {},
   "outputs": [
    {
     "name": "stdout",
     "output_type": "stream",
     "text": [
      "LCA of 10 and 14 is 12\n",
      "LCA of 14 and 8 is 8\n",
      "LCA of 10 and 22 is 20\n"
     ]
    }
   ],
   "source": [
    "n1 = 10 ; n2 = 14\n",
    "t = lca(root, n1, n2)\n",
    "print (\"LCA of %d and %d is %d\" %(n1, n2, t.val))\n",
    "\n",
    "n1 = 14 ; n2 = 8\n",
    "t = lca(root, n1, n2)\n",
    "print (\"LCA of %d and %d is %d\" %(n1, n2 , t.val))\n",
    " \n",
    "n1 = 10 ; n2 = 22\n",
    "t = lca(root, n1, n2)\n",
    "print (\"LCA of %d and %d is %d\" %(n1, n2, t.val))"
   ]
  },
  {
   "cell_type": "code",
   "execution_count": null,
   "id": "6e0354e9",
   "metadata": {},
   "outputs": [],
   "source": []
  }
 ],
 "metadata": {
  "kernelspec": {
   "display_name": "Python 3 (ipykernel)",
   "language": "python",
   "name": "python3"
  },
  "language_info": {
   "codemirror_mode": {
    "name": "ipython",
    "version": 3
   },
   "file_extension": ".py",
   "mimetype": "text/x-python",
   "name": "python",
   "nbconvert_exporter": "python",
   "pygments_lexer": "ipython3",
   "version": "3.8.12"
  }
 },
 "nbformat": 4,
 "nbformat_minor": 5
}
