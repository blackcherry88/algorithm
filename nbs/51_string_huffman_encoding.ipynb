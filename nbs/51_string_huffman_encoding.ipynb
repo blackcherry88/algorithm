{
 "cells": [
  {
   "cell_type": "code",
   "execution_count": 1,
   "id": "d8834df3",
   "metadata": {},
   "outputs": [],
   "source": [
    "%load_ext autoreload\n",
    "%autoreload 2"
   ]
  },
  {
   "cell_type": "code",
   "execution_count": 2,
   "id": "ca758b63",
   "metadata": {},
   "outputs": [],
   "source": [
    "# default_exp core.ds.string.huffman"
   ]
  },
  {
   "cell_type": "code",
   "execution_count": 3,
   "id": "e3ea219c",
   "metadata": {},
   "outputs": [],
   "source": [
    "#hide\n",
    "from nbdev.showdoc import *"
   ]
  },
  {
   "cell_type": "code",
   "execution_count": 18,
   "id": "7d12e357",
   "metadata": {},
   "outputs": [],
   "source": [
    "# export\n",
    "from dataclasses import dataclass, field\n",
    "import heapq\n",
    "from typing import Any\n",
    "\n",
    "\n",
    "@dataclass(order=True)\n",
    "class Node:\n",
    "    weight: int\n",
    "    c: Any=field(compare=False, default='$')\n",
    "    left: Any=field(compare=False, default=None)\n",
    "    right: Any=field(compare=False, default=None)\n",
    "    \n",
    "\n",
    "def huffman_encode(root, prefix=\"\"):\n",
    "    if root.left is not None:\n",
    "        yield from huffman_encode(root.left, prefix+\"0\")\n",
    "        if root.right is not None:\n",
    "            yield from huffman_encode(root.right, prefix+\"1\")\n",
    "    else:\n",
    "        if root.right is not None:\n",
    "            yield from huffman_encode(root.right, prefix+\"1\")\n",
    "        else:\n",
    "            yield (root.c, prefix)\n",
    "    \n",
    "    \n",
    "def huffman(s):\n",
    "    if not s:\n",
    "        return\n",
    "    \n",
    "    q = []\n",
    "    for c, i in s:\n",
    "        heapq.heappush(q, Node(i, c))\n",
    "    \n",
    "    while len(q) > 1:\n",
    "        l = heapq.heappop(q)\n",
    "        r = heapq.heappop(q)\n",
    "        n = Node(l.weight + r.weight, '$', l, r)\n",
    "        heapq.heappush(q, n)\n",
    "        \n",
    "    root = q[0]\n",
    "    yield from huffman_encode(root)\n",
    "    "
   ]
  },
  {
   "cell_type": "code",
   "execution_count": 19,
   "id": "f846707e",
   "metadata": {},
   "outputs": [
    {
     "data": {
      "text/plain": [
       "[('a', 5), ('b', 9), ('c', 12), ('d', 13), ('e', 16), ('f', 45)]"
      ]
     },
     "execution_count": 19,
     "metadata": {},
     "output_type": "execute_result"
    }
   ],
   "source": [
    "chars = ['a', 'b', 'c', 'd', 'e', 'f']\n",
    "freq = [ 5, 9, 12, 13, 16, 45]\n",
    "s = [(c, f) for c, f in zip(chars, freq)]\n",
    "s"
   ]
  },
  {
   "cell_type": "code",
   "execution_count": 20,
   "id": "81dc25eb",
   "metadata": {},
   "outputs": [
    {
     "name": "stdout",
     "output_type": "stream",
     "text": [
      "f --> 0\n",
      "c --> 100\n",
      "d --> 101\n",
      "a --> 1100\n",
      "b --> 1101\n",
      "e --> 111\n"
     ]
    }
   ],
   "source": [
    "for c, code in huffman(s):\n",
    "    print(f\"{c} --> {code}\")"
   ]
  },
  {
   "cell_type": "code",
   "execution_count": null,
   "id": "03ef94db",
   "metadata": {},
   "outputs": [],
   "source": []
  }
 ],
 "metadata": {
  "kernelspec": {
   "display_name": "Python 3 (ipykernel)",
   "language": "python",
   "name": "python3"
  },
  "language_info": {
   "codemirror_mode": {
    "name": "ipython",
    "version": 3
   },
   "file_extension": ".py",
   "mimetype": "text/x-python",
   "name": "python",
   "nbconvert_exporter": "python",
   "pygments_lexer": "ipython3",
   "version": "3.8.12"
  }
 },
 "nbformat": 4,
 "nbformat_minor": 5
}
