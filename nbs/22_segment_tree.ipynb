{
 "cells": [
  {
   "cell_type": "code",
   "execution_count": 1,
   "id": "d8834df3",
   "metadata": {},
   "outputs": [],
   "source": [
    "%load_ext autoreload\n",
    "%autoreload 2"
   ]
  },
  {
   "cell_type": "code",
   "execution_count": 2,
   "id": "e3ea219c",
   "metadata": {},
   "outputs": [],
   "source": [
    "#hide\n",
    "from nbdev.showdoc import *"
   ]
  },
  {
   "cell_type": "code",
   "execution_count": 4,
   "id": "73e905d2",
   "metadata": {},
   "outputs": [],
   "source": [
    "from anytree import Node, RenderTree\n",
    "\n",
    "\n",
    "def build_segment_tree(a, start, end):\n",
    "    \"\"\"\n",
    "    [start, end] inclusive\n",
    "    \"\"\"\n",
    "    if start > end:\n",
    "        raise ValueError(f\"Invalid input {start}, {end}\")\n",
    "    if start == end:\n",
    "        return Node(\"\", v = a[start], start=start, end=end)\n",
    "\n",
    "    mid = (start + end)//2\n",
    "    l = build_segment_tree(a, start, mid)\n",
    "    r = build_segment_tree(a, mid+1, end)\n",
    "    p = Node(\"\", children=[l, r], v = l.v + r.v, start=start, end=end)\n",
    "#         l.parent = p\n",
    "#         r.parent = p\n",
    "    return p\n",
    "\n",
    "def query(root, start, end):\n",
    "    if start > end:\n",
    "        raise ValueError(f\"Invalid input {start}, {end}\")\n",
    "\n",
    "    # not in range\n",
    "    if root.start > end:\n",
    "        return 0\n",
    "\n",
    "    if root.end < start:\n",
    "        return 0\n",
    "\n",
    "    # all in range    \n",
    "    if root.start >= start and root.end <= end:\n",
    "        return root.v\n",
    "\n",
    "    return query(root.children[0], start, end) + \\\n",
    "           query(root.children[1], start, end)\n",
    "    \n",
    "    \n",
    "def update(root, i, diff):\n",
    "    if i < root.start:\n",
    "        return\n",
    "    if i > root.end:\n",
    "        return\n",
    "\n",
    "    root.v += diff\n",
    "    if root.is_leaf:\n",
    "        return\n",
    "\n",
    "    mid = (root.start + root.end)//2\n",
    "    if i <= mid:\n",
    "        update(root.children[0], i, diff)\n",
    "    else:\n",
    "        update(root.children[1], i, diff)\n",
    "    "
   ]
  },
  {
   "cell_type": "code",
   "execution_count": 5,
   "id": "4e900a07",
   "metadata": {},
   "outputs": [
    {
     "name": "stdout",
     "output_type": "stream",
     "text": [
      "Node('/', end=11, start=0, v=78)\n",
      "├── Node('//', end=5, start=0, v=21)\n",
      "│   ├── Node('///', end=2, start=0, v=6)\n",
      "│   │   ├── Node('////', end=1, start=0, v=3)\n",
      "│   │   │   ├── Node('/////', end=0, start=0, v=1)\n",
      "│   │   │   └── Node('/////', end=1, start=1, v=2)\n",
      "│   │   └── Node('////', end=2, start=2, v=3)\n",
      "│   └── Node('///', end=5, start=3, v=15)\n",
      "│       ├── Node('////', end=4, start=3, v=9)\n",
      "│       │   ├── Node('/////', end=3, start=3, v=4)\n",
      "│       │   └── Node('/////', end=4, start=4, v=5)\n",
      "│       └── Node('////', end=5, start=5, v=6)\n",
      "└── Node('//', end=11, start=6, v=57)\n",
      "    ├── Node('///', end=8, start=6, v=24)\n",
      "    │   ├── Node('////', end=7, start=6, v=15)\n",
      "    │   │   ├── Node('/////', end=6, start=6, v=7)\n",
      "    │   │   └── Node('/////', end=7, start=7, v=8)\n",
      "    │   └── Node('////', end=8, start=8, v=9)\n",
      "    └── Node('///', end=11, start=9, v=33)\n",
      "        ├── Node('////', end=10, start=9, v=21)\n",
      "        │   ├── Node('/////', end=9, start=9, v=10)\n",
      "        │   └── Node('/////', end=10, start=10, v=11)\n",
      "        └── Node('////', end=11, start=11, v=12)\n",
      "5\n",
      "3\n",
      "Node('/', end=11, start=0, v=76)\n",
      "├── Node('//', end=5, start=0, v=19)\n",
      "│   ├── Node('///', end=2, start=0, v=4)\n",
      "│   │   ├── Node('////', end=1, start=0, v=3)\n",
      "│   │   │   ├── Node('/////', end=0, start=0, v=1)\n",
      "│   │   │   └── Node('/////', end=1, start=1, v=2)\n",
      "│   │   └── Node('////', end=2, start=2, v=1)\n",
      "│   └── Node('///', end=5, start=3, v=15)\n",
      "│       ├── Node('////', end=4, start=3, v=9)\n",
      "│       │   ├── Node('/////', end=3, start=3, v=4)\n",
      "│       │   └── Node('/////', end=4, start=4, v=5)\n",
      "│       └── Node('////', end=5, start=5, v=6)\n",
      "└── Node('//', end=11, start=6, v=57)\n",
      "    ├── Node('///', end=8, start=6, v=24)\n",
      "    │   ├── Node('////', end=7, start=6, v=15)\n",
      "    │   │   ├── Node('/////', end=6, start=6, v=7)\n",
      "    │   │   └── Node('/////', end=7, start=7, v=8)\n",
      "    │   └── Node('////', end=8, start=8, v=9)\n",
      "    └── Node('///', end=11, start=9, v=33)\n",
      "        ├── Node('////', end=10, start=9, v=21)\n",
      "        │   ├── Node('/////', end=9, start=9, v=10)\n",
      "        │   └── Node('/////', end=10, start=10, v=11)\n",
      "        └── Node('////', end=11, start=11, v=12)\n"
     ]
    }
   ],
   "source": [
    "a = [1, 2, 3, 4, 5, 6, 7, 8, 9, 10, 11, 12]\n",
    "r = build_segment_tree(a, 0, len(a)-1)\n",
    "print(RenderTree(r))\n",
    "\n",
    "print(query(r, 1, 2))\n",
    "\n",
    "diff = 1 - a[2]\n",
    "a[2] += diff\n",
    "update(r, 2, diff);\n",
    "print(query(r, 1, 2))\n",
    "print(RenderTree(r))"
   ]
  },
  {
   "cell_type": "code",
   "execution_count": 6,
   "id": "1cbcd116",
   "metadata": {},
   "outputs": [
    {
     "data": {
      "text/plain": [
       "23"
      ]
     },
     "execution_count": 6,
     "metadata": {},
     "output_type": "execute_result"
    }
   ],
   "source": [
    "total_sz = len(r.descendants)+1\n",
    "total_sz"
   ]
  },
  {
   "cell_type": "markdown",
   "id": "8b06ec51",
   "metadata": {},
   "source": [
    "Observations:\n",
    "1. we have 2*n-1 nodes, we can store tree in an array, but with large size\n",
    "2. we don't need start end, which we can recompute them\n"
   ]
  },
  {
   "cell_type": "code",
   "execution_count": 40,
   "id": "73a2eade",
   "metadata": {},
   "outputs": [],
   "source": [
    "def get_left_child(i):\n",
    "    return i*2+1\n",
    "\n",
    "def get_right_child(i):\n",
    "    return i*2+2\n",
    "\n",
    "def build_segment_tree2(st, current, a, start, end):\n",
    "    \"\"\"\n",
    "    st: the array tree\n",
    "    current: the current node in array tree\n",
    "    a: the input array\n",
    "    [start, end] inclusive\n",
    "    \"\"\"\n",
    "    if start > end:\n",
    "        raise ValueError(f\"Invalid input {start}, {end}\")\n",
    "    if start == end:\n",
    "        print(f\"st[{current}] = {a[start]}\")\n",
    "        st[current] = a[start]\n",
    "        return st[current]\n",
    "\n",
    "    mid = (start + end)//2\n",
    "    l = get_left_child(current)\n",
    "    r = get_right_child(current)\n",
    "    \n",
    "    v = build_segment_tree2(st, l, a, start, mid)\n",
    "    v += build_segment_tree2(st, r, a, mid+1, end)\n",
    "    st[current] = v\n",
    "    return v\n",
    "\n",
    "\n",
    "def query2(st, current, t_start, t_end, l, r):\n",
    "    \"\"\"\n",
    "    st: the array tree\n",
    "    current: the current node in array tree\n",
    "    [t_start, t_end]: the original range corresponding to the node\n",
    "    [l, r]: query range\n",
    "    \"\"\"\n",
    "    if l > r:\n",
    "        raise ValueError(f\"Invalid input {l}, {r}\")\n",
    "\n",
    "    # not in range\n",
    "    if t_start > r:\n",
    "        return 0\n",
    "\n",
    "    if t_end < l:\n",
    "        return 0\n",
    "\n",
    "    # all in range    \n",
    "    if t_start >= l and t_end <= r:\n",
    "        return st[current]\n",
    "\n",
    "    mid = (t_start + t_end)//2\n",
    "\n",
    "    return query2(st, get_left_child(current), t_start, mid, l, r) + \\\n",
    "           query2(st, get_right_child(current), mid+1, t_end, l, r)"
   ]
  },
  {
   "cell_type": "code",
   "execution_count": 41,
   "id": "b26a801a",
   "metadata": {},
   "outputs": [
    {
     "name": "stdout",
     "output_type": "stream",
     "text": [
      "st[15] = 1\n",
      "st[16] = 2\n",
      "st[8] = 3\n",
      "st[19] = 4\n",
      "st[20] = 5\n",
      "st[10] = 6\n",
      "st[23] = 7\n",
      "st[24] = 8\n",
      "st[12] = 9\n",
      "st[27] = 10\n",
      "st[28] = 11\n",
      "st[14] = 12\n",
      "[78, 21, 57, 6, 15, 24, 33, 3, 3, 9, 6, 15, 9, 21, 12, 1, 2, 0, 0, 4, 5, 0, 0, 7, 8, 0, 0, 10, 11, 0, 0]\n",
      "5\n"
     ]
    }
   ],
   "source": [
    "from math import ceil, log2\n",
    "a = [1, 2, 3, 4, 5, 6, 7, 8, 9, 10, 11, 12]\n",
    "n = len(a)\n",
    "# Height of segment tree \n",
    "x = (int)(ceil(log2(n))); \n",
    "# Maximum size of segment tree \n",
    "max_size = 2 * (int)(2**x) - 1;\n",
    "    \n",
    "tree = [0]*(max_size)\n",
    "root = 0\n",
    "build_segment_tree2(tree, root, a, 0, len(a)-1)\n",
    "\n",
    "print(tree)\n",
    "print(query2(tree, root, 0, n-1, 1, 2))"
   ]
  },
  {
   "cell_type": "markdown",
   "id": "d824a5ff",
   "metadata": {},
   "source": [
    "Observations:\n",
    "1. we allocate more space than 2*n-1, which we could still do better\n"
   ]
  },
  {
   "cell_type": "code",
   "execution_count": 47,
   "id": "fdfd68cf",
   "metadata": {},
   "outputs": [],
   "source": [
    "# function to build the tree\n",
    "def build_segment_tree3(tree, arr) :\n",
    "    n = len(arr)\n",
    "    # insert leaf nodes in tree\n",
    "    for i in range(n) :\n",
    "        tree[n + i] = arr[i];\n",
    "     \n",
    "    # build the tree by calculating parents\n",
    "    # note 1 is the root\n",
    "    for i in range(n - 1, 0, -1) :\n",
    "        tree[i] = tree[i << 1] + tree[i << 1 | 1];\n",
    "        \n",
    "        \n",
    "def update_3(tree, p, value) :\n",
    "    # set value at position p\n",
    "    tree[p + n] = value;\n",
    "    p = p + n;\n",
    "     \n",
    "    # move upward and update parents\n",
    "    i = p;\n",
    "    while i > 1 :\n",
    "        # if i has 1 in bit 0, then i^1 will the left child\n",
    "        # otherwise, i^1 will be the right child\n",
    "        tree[i >> 1] = tree[i] + tree[i ^ 1];\n",
    "        i >>= 1;\n",
    "        \n",
    "        \n",
    "def query_3(tree, l, r) :\n",
    "    res = 0;\n",
    "     \n",
    "    # loop to find the sum in the range\n",
    "    l += n;\n",
    "    r += n;\n",
    "     \n",
    "    while l < r :\n",
    "     \n",
    "        # if l is the right child, we add the range in l\n",
    "        # since we already add it, we increase l\n",
    "        if (l & 1) :\n",
    "            res += tree[l];\n",
    "            l += 1\n",
    "     \n",
    "        # if r-1 is the left child, we add the range in r-1\n",
    "        # since we already add it, we decrease r\n",
    "        if (r & 1) :\n",
    "            r -= 1;\n",
    "            res += tree[r];\n",
    "        # we finish handle in current level, move up to parent level     \n",
    "        l >>= 1;\n",
    "        r >>= 1\n",
    "     \n",
    "    return res;        "
   ]
  },
  {
   "cell_type": "code",
   "execution_count": 44,
   "id": "13ea018b",
   "metadata": {},
   "outputs": [
    {
     "data": {
      "text/plain": [
       "[0,\n",
       " 78,\n",
       " 68,\n",
       " 10,\n",
       " 26,\n",
       " 42,\n",
       " 3,\n",
       " 7,\n",
       " 11,\n",
       " 15,\n",
       " 19,\n",
       " 23,\n",
       " 1,\n",
       " 2,\n",
       " 3,\n",
       " 4,\n",
       " 5,\n",
       " 6,\n",
       " 7,\n",
       " 8,\n",
       " 9,\n",
       " 10,\n",
       " 11,\n",
       " 12]"
      ]
     },
     "execution_count": 44,
     "metadata": {},
     "output_type": "execute_result"
    }
   ],
   "source": [
    "a = [1, 2, 3, 4, 5, 6, 7, 8, 9, 10, 11, 12]\n",
    "n = len(a)\n",
    "tree = [0]*(2*n)\n",
    "build_segment_tree3(tree, a)\n",
    "tree"
   ]
  },
  {
   "cell_type": "code",
   "execution_count": 45,
   "id": "4133a56e",
   "metadata": {},
   "outputs": [
    {
     "data": {
      "text/plain": [
       "[0,\n",
       " 76,\n",
       " 68,\n",
       " 8,\n",
       " 26,\n",
       " 42,\n",
       " 3,\n",
       " 5,\n",
       " 11,\n",
       " 15,\n",
       " 19,\n",
       " 23,\n",
       " 1,\n",
       " 2,\n",
       " 1,\n",
       " 4,\n",
       " 5,\n",
       " 6,\n",
       " 7,\n",
       " 8,\n",
       " 9,\n",
       " 10,\n",
       " 11,\n",
       " 12]"
      ]
     },
     "execution_count": 45,
     "metadata": {},
     "output_type": "execute_result"
    }
   ],
   "source": [
    "update_3(tree, 2, 1)\n",
    "tree"
   ]
  },
  {
   "cell_type": "code",
   "execution_count": 48,
   "id": "36910461",
   "metadata": {},
   "outputs": [
    {
     "data": {
      "text/plain": [
       "3"
      ]
     },
     "execution_count": 48,
     "metadata": {},
     "output_type": "execute_result"
    }
   ],
   "source": [
    "query_3(tree, 1, 3)"
   ]
  },
  {
   "cell_type": "code",
   "execution_count": null,
   "id": "1ff64ca6",
   "metadata": {},
   "outputs": [],
   "source": []
  }
 ],
 "metadata": {
  "kernelspec": {
   "display_name": "Python 3 (ipykernel)",
   "language": "python",
   "name": "python3"
  },
  "language_info": {
   "codemirror_mode": {
    "name": "ipython",
    "version": 3
   },
   "file_extension": ".py",
   "mimetype": "text/x-python",
   "name": "python",
   "nbconvert_exporter": "python",
   "pygments_lexer": "ipython3",
   "version": "3.8.12"
  }
 },
 "nbformat": 4,
 "nbformat_minor": 5
}
