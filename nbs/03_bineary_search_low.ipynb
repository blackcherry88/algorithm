{
 "cells": [
  {
   "cell_type": "code",
   "execution_count": 3,
   "id": "377206d9",
   "metadata": {},
   "outputs": [],
   "source": [
    "%load_ext autoreload\n",
    "%autoreload 2"
   ]
  },
  {
   "cell_type": "code",
   "execution_count": 3,
   "id": "6299c694",
   "metadata": {},
   "outputs": [],
   "source": [
    "def _bi_left_helper(a, x, low, high):\n",
    "    \n",
    "    # double check later\n",
    "    if high < low:\n",
    "        if low < len(a) and a[low] == x:\n",
    "            return low\n",
    "        return -1\n",
    "    \n",
    "    mid = (low + high)//2\n",
    "    if a[mid] < x:\n",
    "        low = mid + 1\n",
    "        return _bi_left_helper(a, x, low, high)\n",
    "    else:\n",
    "        high = mid - 1\n",
    "        return _bi_left_helper(a, x, low, high)\n",
    "    \n",
    "    \n",
    "def bi_search_left(a, x):\n",
    "    if a is None or len(a) <= 0:\n",
    "        return -1\n",
    "    return _bi_left_helper(a, x, 0, len(a)-1)\n",
    "        \n",
    "    "
   ]
  },
  {
   "cell_type": "code",
   "execution_count": 4,
   "id": "cf35749b",
   "metadata": {},
   "outputs": [
    {
     "data": {
      "text/plain": [
       "3"
      ]
     },
     "execution_count": 4,
     "metadata": {},
     "output_type": "execute_result"
    }
   ],
   "source": [
    "a = [6, 6, 7, 8, 8, 8, 9]\n",
    "bi_search_left(a, 8)"
   ]
  },
  {
   "cell_type": "code",
   "execution_count": 5,
   "id": "af39b25c",
   "metadata": {},
   "outputs": [
    {
     "data": {
      "text/plain": [
       "-1"
      ]
     },
     "execution_count": 5,
     "metadata": {},
     "output_type": "execute_result"
    }
   ],
   "source": [
    "bi_search_left(a, 5)"
   ]
  },
  {
   "cell_type": "code",
   "execution_count": 7,
   "id": "15bff538",
   "metadata": {},
   "outputs": [
    {
     "data": {
      "text/plain": [
       "-1"
      ]
     },
     "execution_count": 7,
     "metadata": {},
     "output_type": "execute_result"
    }
   ],
   "source": [
    "bi_search_left(a, 10)"
   ]
  },
  {
   "cell_type": "code",
   "execution_count": 10,
   "id": "561e42bd",
   "metadata": {},
   "outputs": [],
   "source": [
    "def _bi_right_helper(a, x, low, high):\n",
    "    \n",
    "    # double check later\n",
    "    if high < low:\n",
    "        if high >= 0 and a[high] == x:\n",
    "            return high\n",
    "        return -1\n",
    "    \n",
    "    mid = (low + high)//2\n",
    "    if a[mid] <= x:\n",
    "        low = mid + 1\n",
    "        return _bi_right_helper(a, x, low, high)\n",
    "    else:\n",
    "        high = mid - 1\n",
    "        return _bi_right_helper(a, x, low, high)\n",
    "    \n",
    "    \n",
    "def bi_search_right(a, x):\n",
    "    if a is None or len(a) <= 0:\n",
    "        return -1\n",
    "    return _bi_right_helper(a, x, 0, len(a)-1)"
   ]
  },
  {
   "cell_type": "code",
   "execution_count": 14,
   "id": "82ce9a20",
   "metadata": {},
   "outputs": [
    {
     "data": {
      "text/plain": [
       "-1"
      ]
     },
     "execution_count": 14,
     "metadata": {},
     "output_type": "execute_result"
    }
   ],
   "source": [
    "a = [6, 6, 7, 8, 8, 8, 9]\n",
    "bi_search_right(a, 5)"
   ]
  },
  {
   "cell_type": "code",
   "execution_count": null,
   "id": "5b7f613c",
   "metadata": {},
   "outputs": [],
   "source": []
  }
 ],
 "metadata": {
  "kernelspec": {
   "display_name": "Python 3 (ipykernel)",
   "language": "python",
   "name": "python3"
  },
  "language_info": {
   "codemirror_mode": {
    "name": "ipython",
    "version": 3
   },
   "file_extension": ".py",
   "mimetype": "text/x-python",
   "name": "python",
   "nbconvert_exporter": "python",
   "pygments_lexer": "ipython3",
   "version": "3.8.12"
  }
 },
 "nbformat": 4,
 "nbformat_minor": 5
}
