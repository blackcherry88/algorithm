{
 "cells": [
  {
   "cell_type": "code",
   "execution_count": 1,
   "id": "d8834df3",
   "metadata": {},
   "outputs": [],
   "source": [
    "%load_ext autoreload\n",
    "%autoreload 2"
   ]
  },
  {
   "cell_type": "code",
   "execution_count": null,
   "id": "ca758b63",
   "metadata": {},
   "outputs": [],
   "source": [
    "# default_exp core.ds.string.suffix_trie"
   ]
  },
  {
   "cell_type": "markdown",
   "id": "e9963929",
   "metadata": {},
   "source": [
    "copy from https://nbviewer.org/gist/BenLangmead/6603756 with py3 modification\n"
   ]
  },
  {
   "cell_type": "code",
   "execution_count": 2,
   "id": "e3ea219c",
   "metadata": {},
   "outputs": [],
   "source": [
    "#hide\n",
    "from nbdev.showdoc import *"
   ]
  },
  {
   "cell_type": "code",
   "execution_count": 2,
   "id": "c22210ab",
   "metadata": {},
   "outputs": [],
   "source": [
    "# export\n",
    "\n",
    "\n",
    "class SuffixTrie():\n",
    "    \n",
    "    def __init__(self, t, terminal='$'):\n",
    "        \"\"\" Make suffix trie from t \"\"\"\n",
    "        self.root = {}\n",
    "        self.terminal = terminal\n",
    "        t += terminal # special character like '$'\n",
    "        sz = len(t)\n",
    "        for i in range(sz):\n",
    "            cur = self.root\n",
    "            for j in range(i, sz):\n",
    "                c = t[j]\n",
    "                if c not in cur:\n",
    "                    cur[c] = {} # add outgoing edge\n",
    "                cur = cur[c]\n",
    "                \n",
    "    \n",
    "    def follow_path(self, s):\n",
    "        \"\"\" Follow path given by characters of s.  Return node at\n",
    "            end of path, or None if we fall off. \"\"\"\n",
    "        cur = self.root\n",
    "        for c in s:\n",
    "            if c not in cur:\n",
    "                return None\n",
    "            cur = cur[c]\n",
    "        return cur\n",
    "    \n",
    "    def has_substring(self, s):\n",
    "        \"\"\" Return true iff s appears as a substring of t \"\"\"\n",
    "        return self.follow_path(s) is not None\n",
    "    \n",
    "    def has_suffix(self, s):\n",
    "        \"\"\" Return true iff s is a suffix of t \"\"\"\n",
    "        node = self.follow_path(s)\n",
    "        return node is not None and self.terminal in node        \n",
    "        \n"
   ]
  },
  {
   "cell_type": "code",
   "execution_count": 3,
   "id": "a73d80df",
   "metadata": {},
   "outputs": [],
   "source": [
    "strie = SuffixTrie('there would have been a time for such a word')"
   ]
  },
  {
   "cell_type": "code",
   "execution_count": 4,
   "id": "b62e04d4",
   "metadata": {},
   "outputs": [
    {
     "data": {
      "text/plain": [
       "False"
      ]
     },
     "execution_count": 4,
     "metadata": {},
     "output_type": "execute_result"
    }
   ],
   "source": [
    "strie.has_substring('nope')"
   ]
  },
  {
   "cell_type": "code",
   "execution_count": 5,
   "id": "d7ff219f",
   "metadata": {},
   "outputs": [
    {
     "data": {
      "text/plain": [
       "True"
      ]
     },
     "execution_count": 5,
     "metadata": {},
     "output_type": "execute_result"
    }
   ],
   "source": [
    "strie.has_substring('would have been')"
   ]
  },
  {
   "cell_type": "code",
   "execution_count": 6,
   "id": "44e2b8b5",
   "metadata": {},
   "outputs": [
    {
     "data": {
      "text/plain": [
       "True"
      ]
     },
     "execution_count": 6,
     "metadata": {},
     "output_type": "execute_result"
    }
   ],
   "source": [
    "strie.has_substring('such a word')"
   ]
  },
  {
   "cell_type": "code",
   "execution_count": 7,
   "id": "6261981c",
   "metadata": {},
   "outputs": [
    {
     "data": {
      "text/plain": [
       "False"
      ]
     },
     "execution_count": 7,
     "metadata": {},
     "output_type": "execute_result"
    }
   ],
   "source": [
    "strie.has_suffix('would have been')"
   ]
  },
  {
   "cell_type": "code",
   "execution_count": 8,
   "id": "c5b2e9bd",
   "metadata": {},
   "outputs": [
    {
     "data": {
      "text/plain": [
       "True"
      ]
     },
     "execution_count": 8,
     "metadata": {},
     "output_type": "execute_result"
    }
   ],
   "source": [
    "strie.has_suffix('such a word')"
   ]
  },
  {
   "cell_type": "code",
   "execution_count": null,
   "id": "7d12e357",
   "metadata": {},
   "outputs": [],
   "source": []
  }
 ],
 "metadata": {
  "kernelspec": {
   "display_name": "Python 3 (ipykernel)",
   "language": "python",
   "name": "python3"
  },
  "language_info": {
   "codemirror_mode": {
    "name": "ipython",
    "version": 3
   },
   "file_extension": ".py",
   "mimetype": "text/x-python",
   "name": "python",
   "nbconvert_exporter": "python",
   "pygments_lexer": "ipython3",
   "version": "3.8.12"
  }
 },
 "nbformat": 4,
 "nbformat_minor": 5
}
