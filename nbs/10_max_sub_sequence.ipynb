{
 "cells": [
  {
   "cell_type": "code",
   "execution_count": 3,
   "id": "377206d9",
   "metadata": {},
   "outputs": [],
   "source": [
    "%load_ext autoreload\n",
    "%autoreload 2"
   ]
  },
  {
   "cell_type": "code",
   "execution_count": 7,
   "id": "6299c694",
   "metadata": {},
   "outputs": [],
   "source": [
    "def max_sum_sequnce_helper(a, i):\n",
    "    \"\"\"\n",
    "    return pair, where pair[0] represents max_sum starting with item i\n",
    "    and pair[1] represent max_sum without item i\n",
    "    \"\"\"\n",
    "    sz = len(a)\n",
    "    if sz <= 0 or i >= sz:\n",
    "        return (0, 0)\n",
    "    s = max_sum_sequnce_helper(a, i+1)\n",
    "    if a[i] <= 0:\n",
    "        return (0, max(s))\n",
    "    return (a[i] + s[1], max(s))\n",
    "\n",
    "\n",
    "def max_sum_sequence(a):\n",
    "    s = max_sum_sequnce_helper(a, 0)\n",
    "    return max(s)\n",
    "    "
   ]
  },
  {
   "cell_type": "code",
   "execution_count": 8,
   "id": "77b79b93",
   "metadata": {},
   "outputs": [
    {
     "data": {
      "text/plain": [
       "110"
      ]
     },
     "execution_count": 8,
     "metadata": {},
     "output_type": "execute_result"
    }
   ],
   "source": [
    "a = [5, 5, 10, 100, 10, 5]\n",
    "max_sum_sequence(a)"
   ]
  },
  {
   "cell_type": "code",
   "execution_count": 9,
   "id": "e2b13aad",
   "metadata": {},
   "outputs": [
    {
     "data": {
      "text/plain": [
       "13"
      ]
     },
     "execution_count": 9,
     "metadata": {},
     "output_type": "execute_result"
    }
   ],
   "source": [
    "a = [3, 2, 7, 10]\n",
    "max_sum_sequence(a)"
   ]
  },
  {
   "cell_type": "code",
   "execution_count": 10,
   "id": "5b0c5408",
   "metadata": {},
   "outputs": [
    {
     "data": {
      "text/plain": [
       "15"
      ]
     },
     "execution_count": 10,
     "metadata": {},
     "output_type": "execute_result"
    }
   ],
   "source": [
    "a = [3, 2, 5, 10, 7]\n",
    "max_sum_sequence(a)"
   ]
  },
  {
   "cell_type": "code",
   "execution_count": null,
   "id": "58e467a4",
   "metadata": {},
   "outputs": [],
   "source": []
  }
 ],
 "metadata": {
  "kernelspec": {
   "display_name": "Python 3 (ipykernel)",
   "language": "python",
   "name": "python3"
  },
  "language_info": {
   "codemirror_mode": {
    "name": "ipython",
    "version": 3
   },
   "file_extension": ".py",
   "mimetype": "text/x-python",
   "name": "python",
   "nbconvert_exporter": "python",
   "pygments_lexer": "ipython3",
   "version": "3.8.12"
  }
 },
 "nbformat": 4,
 "nbformat_minor": 5
}
