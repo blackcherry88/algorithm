{
 "cells": [
  {
   "cell_type": "code",
   "execution_count": 1,
   "id": "377206d9",
   "metadata": {},
   "outputs": [],
   "source": [
    "%load_ext autoreload\n",
    "%autoreload 2"
   ]
  },
  {
   "cell_type": "code",
   "execution_count": 3,
   "id": "2dc93a1f",
   "metadata": {},
   "outputs": [],
   "source": [
    "#hide\n",
    "from nbdev.showdoc import *"
   ]
  },
  {
   "cell_type": "code",
   "execution_count": 4,
   "id": "f41e886f",
   "metadata": {},
   "outputs": [],
   "source": [
    "from algorithm.core.ds.tree import Node, create_tree"
   ]
  },
  {
   "cell_type": "code",
   "execution_count": 5,
   "id": "09b4a611",
   "metadata": {},
   "outputs": [
    {
     "name": "stdout",
     "output_type": "stream",
     "text": [
      "------30\n",
      "----25\n",
      "--50\n",
      "------60\n",
      "----75\n",
      "100\n",
      "----125\n",
      "--200\n",
      "----350\n"
     ]
    }
   ],
   "source": [
    "a = [100, 50, 25, 30, None, None, None, 75, 60, None, None, None, 200, 125, None, None, 350, None, None]\n",
    "\n",
    "root = create_tree(a)\n",
    "\n",
    "root.print_tree()\n"
   ]
  },
  {
   "cell_type": "code",
   "execution_count": 11,
   "id": "6e0354e9",
   "metadata": {},
   "outputs": [],
   "source": [
    "def to_doubly_list(root: Node) -> Node:\n",
    "    if root is None:\n",
    "        return None, None\n",
    "\n",
    "    n = Node(root.val)\n",
    "    if root.left:\n",
    "        head, tail = to_doubly_list(root.left)\n",
    "        tail.right = n\n",
    "        n.left = tail\n",
    "    else:\n",
    "        head = n\n",
    "    tail = n\n",
    "    \n",
    "    if root.right:\n",
    "        r_h, r_t = to_doubly_list(root.right)\n",
    "        tail.right = r_h\n",
    "        r_h.left = tail\n",
    "        tail = r_t\n",
    "    \n",
    "    return head, tail\n",
    "\n",
    "\n",
    "def print_list(h: Node):\n",
    "    a = []\n",
    "    while h:\n",
    "        a.append(h.val)\n",
    "        h = h.right\n",
    "    print(a)\n"
   ]
  },
  {
   "cell_type": "code",
   "execution_count": 13,
   "id": "6a29c4dd",
   "metadata": {},
   "outputs": [
    {
     "name": "stdout",
     "output_type": "stream",
     "text": [
      "[30, 25, 50, 60, 75, 100, 125, 200, 350]\n"
     ]
    }
   ],
   "source": [
    "head, _ = to_doubly_list(root)\n",
    "print_list(head)"
   ]
  },
  {
   "cell_type": "code",
   "execution_count": null,
   "id": "b65de7bd",
   "metadata": {},
   "outputs": [],
   "source": []
  }
 ],
 "metadata": {
  "kernelspec": {
   "display_name": "Python 3 (ipykernel)",
   "language": "python",
   "name": "python3"
  },
  "language_info": {
   "codemirror_mode": {
    "name": "ipython",
    "version": 3
   },
   "file_extension": ".py",
   "mimetype": "text/x-python",
   "name": "python",
   "nbconvert_exporter": "python",
   "pygments_lexer": "ipython3",
   "version": "3.8.12"
  }
 },
 "nbformat": 4,
 "nbformat_minor": 5
}
