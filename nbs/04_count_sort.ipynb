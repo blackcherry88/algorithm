{
 "cells": [
  {
   "cell_type": "code",
   "execution_count": 11,
   "id": "377206d9",
   "metadata": {},
   "outputs": [],
   "source": [
    "%load_ext autoreload\n",
    "%autoreload 2"
   ]
  },
  {
   "cell_type": "code",
   "execution_count": 12,
   "id": "fbdc4928",
   "metadata": {},
   "outputs": [],
   "source": [
    "# default_exp core.sorting.couting_sort\n"
   ]
  },
  {
   "cell_type": "code",
   "execution_count": 13,
   "id": "5b7f613c",
   "metadata": {},
   "outputs": [],
   "source": [
    "# export\n",
    "\n",
    "def counting_sort(a):\n",
    "    if not a:\n",
    "        return a\n",
    "    \n",
    "    # O(n)\n",
    "    k = max(a)+1\n",
    "    sz = len(a)\n",
    "    # O(k)\n",
    "    c = [0] * k\n",
    "    # O(n)\n",
    "    b = [0] * sz\n",
    "    \n",
    "    # O(n)\n",
    "    for i in a:\n",
    "        c[i] += 1\n",
    "    \n",
    "    for i in range(1, k):\n",
    "        c[i] += c[i-1]\n",
    "        \n",
    "    for i in a:\n",
    "        c[i] -= 1\n",
    "        p = c[i]\n",
    "        b[p] = i\n",
    "    return b"
   ]
  },
  {
   "cell_type": "code",
   "execution_count": 14,
   "id": "8cc257f1",
   "metadata": {},
   "outputs": [
    {
     "data": {
      "text/plain": [
       "[2, 2, 3, 4, 5, 5, 5]"
      ]
     },
     "execution_count": 14,
     "metadata": {},
     "output_type": "execute_result"
    }
   ],
   "source": [
    "a = [3, 4, 5, 5, 5, 2, 2]\n",
    "counting_sort(a)"
   ]
  },
  {
   "cell_type": "code",
   "execution_count": null,
   "id": "17229b74",
   "metadata": {},
   "outputs": [],
   "source": []
  }
 ],
 "metadata": {
  "kernelspec": {
   "display_name": "Python 3 (ipykernel)",
   "language": "python",
   "name": "python3"
  },
  "language_info": {
   "codemirror_mode": {
    "name": "ipython",
    "version": 3
   },
   "file_extension": ".py",
   "mimetype": "text/x-python",
   "name": "python",
   "nbconvert_exporter": "python",
   "pygments_lexer": "ipython3",
   "version": "3.8.12"
  }
 },
 "nbformat": 4,
 "nbformat_minor": 5
}
