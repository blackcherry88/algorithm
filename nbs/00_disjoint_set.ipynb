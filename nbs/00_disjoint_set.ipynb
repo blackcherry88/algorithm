{
 "cells": [
  {
   "cell_type": "code",
   "execution_count": 1,
   "id": "377206d9",
   "metadata": {},
   "outputs": [],
   "source": [
    "%load_ext autoreload\n",
    "%autoreload 2"
   ]
  },
  {
   "cell_type": "code",
   "execution_count": 2,
   "id": "88cbf26a",
   "metadata": {},
   "outputs": [],
   "source": [
    "# default_exp core.ds.disjointset"
   ]
  },
  {
   "cell_type": "code",
   "execution_count": 3,
   "id": "2dc93a1f",
   "metadata": {},
   "outputs": [],
   "source": [
    "#hide\n",
    "from nbdev.showdoc import *"
   ]
  },
  {
   "cell_type": "code",
   "execution_count": 4,
   "id": "92b68f54",
   "metadata": {},
   "outputs": [],
   "source": [
    "# export\n",
    "\n",
    "class DisjointSet:\n",
    "    def __init__(self, s):\n",
    "        self.parent = {n:n for n in s}\n",
    "\n",
    "    def find(self, x):\n",
    "        while x != self.parent[x]:\n",
    "            self.parent[x] = self.parent[self.parent[x]]\n",
    "            x = self.parent[x]\n",
    "        return x\n",
    "\n",
    "    def union(self, x, y):\n",
    "        root_x, root_y = self.find(x), self.find(y)\n",
    "        self.parent[root_y] = root_x\n",
    "        \n",
    "    def is_same(self, x, y):\n",
    "        return self.find(x) == self.find(y)\n",
    "    \n",
    "    def __repr__(self) -> str:\n",
    "        \"\"\"\n",
    "        Print self in a reproducible way.\n",
    "        >>> DisjointSet({1: 2, 2: 2})\n",
    "        DisjointSet({1: 2, 2: 2})\n",
    "        \"\"\"\n",
    "        return f\"{self.__class__.__name__}({self.parent})\"\n"
   ]
  },
  {
   "cell_type": "code",
   "execution_count": 5,
   "id": "dea7c1e8",
   "metadata": {},
   "outputs": [
    {
     "name": "stdout",
     "output_type": "stream",
     "text": [
      "DisjointSet({0: 0, 1: 1, 2: 2, 3: 3, 4: 4, 5: 5, 6: 6, 7: 7, 8: 8, 9: 9})\n"
     ]
    },
    {
     "data": {
      "text/plain": [
       "DisjointSet({0: 0, 1: 1, 2: 2, 3: 2, 4: 2, 5: 5, 6: 6, 7: 7, 8: 8, 9: 9})"
      ]
     },
     "execution_count": 5,
     "metadata": {},
     "output_type": "execute_result"
    }
   ],
   "source": [
    "# test\n",
    "ds = DisjointSet(range(10))\n",
    "print(ds)\n",
    "for i in range(10):\n",
    "    assert ds.find(i) == i\n",
    "\n",
    "ds.union(2, 3)\n",
    "assert(ds.find(3) == 2)\n",
    "ds.union(3, 4)\n",
    "assert(ds.find(4) == 2)\n",
    "assert(ds.is_same(2, 4))\n",
    "ds"
   ]
  },
  {
   "cell_type": "code",
   "execution_count": null,
   "id": "2e199996",
   "metadata": {},
   "outputs": [],
   "source": []
  }
 ],
 "metadata": {
  "kernelspec": {
   "display_name": "Python 3 (ipykernel)",
   "language": "python",
   "name": "python3"
  },
  "language_info": {
   "codemirror_mode": {
    "name": "ipython",
    "version": 3
   },
   "file_extension": ".py",
   "mimetype": "text/x-python",
   "name": "python",
   "nbconvert_exporter": "python",
   "pygments_lexer": "ipython3",
   "version": "3.8.12"
  }
 },
 "nbformat": 4,
 "nbformat_minor": 5
}
