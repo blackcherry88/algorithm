{
 "cells": [
  {
   "cell_type": "code",
   "execution_count": 1,
   "id": "d8834df3",
   "metadata": {},
   "outputs": [],
   "source": [
    "%load_ext autoreload\n",
    "%autoreload 2"
   ]
  },
  {
   "cell_type": "code",
   "execution_count": 2,
   "id": "e3ea219c",
   "metadata": {},
   "outputs": [],
   "source": [
    "#hide\n",
    "from nbdev.showdoc import *"
   ]
  },
  {
   "cell_type": "code",
   "execution_count": 8,
   "id": "c9251790",
   "metadata": {},
   "outputs": [],
   "source": [
    "def kmp_table(s):\n",
    "    if not s:\n",
    "        return []\n",
    "    sz = len(s)\n",
    "    r = [-1]*sz\n",
    "    \n",
    "    for i in range(1, sz):\n",
    "        j = r[i-1]\n",
    "        while True:\n",
    "            if s[i] == s[j+1]:\n",
    "                r[i] = j+1\n",
    "                break\n",
    "            if j < 0:\n",
    "                break\n",
    "            j = r[j]\n",
    "    return r\n",
    "\n",
    "\n",
    "def kmp(p, s):\n",
    "    if not p:\n",
    "        return -1\n",
    "    if not s:\n",
    "        return -1\n",
    "    \n",
    "    t = kmp_table(p)\n",
    "    i = 0\n",
    "    j = 0\n",
    "    sz = len(s)\n",
    "    p_sz = len(p)\n",
    "    while i < sz:\n",
    "        if j < p_sz and s[i] == p[j]:\n",
    "            i += 1\n",
    "            j += 1\n",
    "            continue\n",
    "        if j == p_sz:\n",
    "            return i - p_sz\n",
    "        if j == 0:\n",
    "            i += 1\n",
    "            continue\n",
    "        j = t[j-1] + 1\n",
    "        \n",
    "    return -1    "
   ]
  },
  {
   "cell_type": "code",
   "execution_count": 7,
   "id": "453b0793",
   "metadata": {},
   "outputs": [
    {
     "data": {
      "text/plain": [
       "[-1, 0, 1]"
      ]
     },
     "execution_count": 7,
     "metadata": {},
     "output_type": "execute_result"
    }
   ],
   "source": [
    "s = 'aaa'\n",
    "kmp_table(s)"
   ]
  },
  {
   "cell_type": "code",
   "execution_count": 9,
   "id": "59f08a75",
   "metadata": {},
   "outputs": [
    {
     "data": {
      "text/plain": [
       "10"
      ]
     },
     "execution_count": 9,
     "metadata": {},
     "output_type": "execute_result"
    }
   ],
   "source": [
    "s = \"THIS IS A TEST TEXT\"\n",
    "p = \"TEST\"\n",
    "kmp(p, s)"
   ]
  },
  {
   "cell_type": "code",
   "execution_count": 11,
   "id": "af7b7f5a",
   "metadata": {},
   "outputs": [
    {
     "data": {
      "text/plain": [
       "9"
      ]
     },
     "execution_count": 11,
     "metadata": {},
     "output_type": "execute_result"
    }
   ],
   "source": [
    "s = \"AABCACAADAABAABA\"\n",
    "p = \"AABA\"\n",
    "kmp(p, s)"
   ]
  },
  {
   "cell_type": "code",
   "execution_count": null,
   "id": "473dc9d8",
   "metadata": {},
   "outputs": [],
   "source": []
  }
 ],
 "metadata": {
  "kernelspec": {
   "display_name": "Python 3 (ipykernel)",
   "language": "python",
   "name": "python3"
  },
  "language_info": {
   "codemirror_mode": {
    "name": "ipython",
    "version": 3
   },
   "file_extension": ".py",
   "mimetype": "text/x-python",
   "name": "python",
   "nbconvert_exporter": "python",
   "pygments_lexer": "ipython3",
   "version": "3.8.12"
  }
 },
 "nbformat": 4,
 "nbformat_minor": 5
}
