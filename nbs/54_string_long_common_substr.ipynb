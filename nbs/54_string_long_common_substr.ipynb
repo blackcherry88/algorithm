{
 "cells": [
  {
   "cell_type": "code",
   "execution_count": 1,
   "id": "d8834df3",
   "metadata": {},
   "outputs": [],
   "source": [
    "%load_ext autoreload\n",
    "%autoreload 2"
   ]
  },
  {
   "cell_type": "code",
   "execution_count": 2,
   "id": "e3ea219c",
   "metadata": {},
   "outputs": [],
   "source": [
    "#hide\n",
    "from nbdev.showdoc import *"
   ]
  },
  {
   "cell_type": "code",
   "execution_count": 28,
   "id": "473dc9d8",
   "metadata": {},
   "outputs": [],
   "source": [
    "import numpy as np\n",
    "\n",
    "\n",
    "def lcsubstr(s, t):\n",
    "    if not s or not t:\n",
    "        return \"\"\n",
    "    s_len = len(s)\n",
    "    t_len = len(t)\n",
    "    \n",
    "    L = np.zeros((s_len, t_len), dtype=np.int32)\n",
    "    # (len, ending)\n",
    "    ret = (0, 0)\n",
    "    \n",
    "    for i in range(s_len):\n",
    "        for j in range(t_len):\n",
    "            if s[i] == t[j]:\n",
    "                if i == 0 or j == 0:\n",
    "                    L[i, j] = 1\n",
    "                else:\n",
    "                    L[i, j] = L[i-1, j-1] + 1\n",
    "            else:\n",
    "                L[i, j] = 0\n",
    "            if L[i, j] > ret[0]:\n",
    "                ret = (L[i, j], i)\n",
    "                \n",
    "    b = ret[1] - ret[0] + 1\n",
    "    return s[b:ret[1]+1], ret[0]"
   ]
  },
  {
   "cell_type": "code",
   "execution_count": 29,
   "id": "a6175de3",
   "metadata": {},
   "outputs": [
    {
     "data": {
      "text/plain": [
       "('Site:Geeks', 10)"
      ]
     },
     "execution_count": 29,
     "metadata": {},
     "output_type": "execute_result"
    }
   ],
   "source": [
    "s = 'OldSite:GeeksforGeeks.org'\n",
    "t = 'NewSite:GeeksQuiz.com'\n",
    "lcsubstr(s, t)"
   ]
  },
  {
   "cell_type": "code",
   "execution_count": null,
   "id": "9306c433",
   "metadata": {},
   "outputs": [],
   "source": []
  },
  {
   "cell_type": "code",
   "execution_count": null,
   "id": "d78bf8e0",
   "metadata": {},
   "outputs": [],
   "source": []
  }
 ],
 "metadata": {
  "kernelspec": {
   "display_name": "Python 3 (ipykernel)",
   "language": "python",
   "name": "python3"
  },
  "language_info": {
   "codemirror_mode": {
    "name": "ipython",
    "version": 3
   },
   "file_extension": ".py",
   "mimetype": "text/x-python",
   "name": "python",
   "nbconvert_exporter": "python",
   "pygments_lexer": "ipython3",
   "version": "3.8.12"
  }
 },
 "nbformat": 4,
 "nbformat_minor": 5
}
