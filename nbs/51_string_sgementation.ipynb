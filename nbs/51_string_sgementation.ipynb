{
 "cells": [
  {
   "cell_type": "code",
   "execution_count": 1,
   "id": "d8834df3",
   "metadata": {},
   "outputs": [],
   "source": [
    "%load_ext autoreload\n",
    "%autoreload 2"
   ]
  },
  {
   "cell_type": "code",
   "execution_count": 2,
   "id": "e3ea219c",
   "metadata": {},
   "outputs": [],
   "source": [
    "#hide\n",
    "from nbdev.showdoc import *"
   ]
  },
  {
   "cell_type": "code",
   "execution_count": 26,
   "id": "c22210ab",
   "metadata": {},
   "outputs": [],
   "source": [
    "def can_segement_string(s, d) -> bool:\n",
    "    if s in d:\n",
    "        return True\n",
    "    for i in range(1, len(s)):\n",
    "        if s[:i] not in d:\n",
    "            continue\n",
    "        if can_segement_string(s[i:], d):\n",
    "            return True\n",
    "    return False\n",
    "    "
   ]
  },
  {
   "cell_type": "code",
   "execution_count": 27,
   "id": "4075645b",
   "metadata": {},
   "outputs": [
    {
     "data": {
      "text/plain": [
       "True"
      ]
     },
     "execution_count": 27,
     "metadata": {},
     "output_type": "execute_result"
    }
   ],
   "source": [
    "d = set(('apple', 'pear', 'pie'))\n",
    "s = \"applepie\"\n",
    "can_segement_string(s, d)"
   ]
  },
  {
   "cell_type": "code",
   "execution_count": 28,
   "id": "86ec3aff",
   "metadata": {},
   "outputs": [
    {
     "data": {
      "text/plain": [
       "True"
      ]
     },
     "execution_count": 28,
     "metadata": {},
     "output_type": "execute_result"
    }
   ],
   "source": [
    "d = [ \"mobile\", \"samsung\", \"sam\", \"sung\", \"man\", \"mango\", \"icecream\", \"and\", \"go\", \"i\",\"like\", \"ice\", \"cream\" ]\n",
    "d = set(d)\n",
    "can_segement_string(\"ilikesamsung\", d)"
   ]
  },
  {
   "cell_type": "code",
   "execution_count": 44,
   "id": "e9888dd4",
   "metadata": {},
   "outputs": [],
   "source": [
    "def word_break(s, d) -> bool:\n",
    "    # -1, not value\n",
    "    # 0, s[i:] can't break\n",
    "    # 1, s[i:] can break\n",
    "    # double check\n",
    "    sz = len(s)\n",
    "    \n",
    "    cache = [-1]*sz\n",
    "    for i in range(0, sz):\n",
    "        if s[i:] in d:\n",
    "            cache[i] = 1\n",
    "    \n",
    "    def _helper(i, d) -> bool:\n",
    "        if cache[i] > -1:\n",
    "            return cache[i] != 0\n",
    "        \n",
    "        for j in range(i+1, sz):\n",
    "            if s[i:j] not in d:\n",
    "                continue\n",
    "            if cache[j] == -1:\n",
    "                cache[j] = _helper(j, d)\n",
    "            if cache[j] > 0:\n",
    "                return True\n",
    "        cache[i] = 0\n",
    "        return False\n",
    "    \n",
    "    return _helper(0, d)\n"
   ]
  },
  {
   "cell_type": "code",
   "execution_count": 45,
   "id": "ca8c198e",
   "metadata": {},
   "outputs": [
    {
     "data": {
      "text/plain": [
       "{'and',\n",
       " 'cream',\n",
       " 'go',\n",
       " 'i',\n",
       " 'ice',\n",
       " 'icecream',\n",
       " 'like',\n",
       " 'man',\n",
       " 'mango',\n",
       " 'mobile',\n",
       " 'sam',\n",
       " 'samsung',\n",
       " 'sung'}"
      ]
     },
     "execution_count": 45,
     "metadata": {},
     "output_type": "execute_result"
    }
   ],
   "source": [
    "d"
   ]
  },
  {
   "cell_type": "code",
   "execution_count": 46,
   "id": "b717d155",
   "metadata": {},
   "outputs": [
    {
     "data": {
      "text/plain": [
       "True"
      ]
     },
     "execution_count": 46,
     "metadata": {},
     "output_type": "execute_result"
    }
   ],
   "source": [
    "word_break(\"ilikesamsung\", d)"
   ]
  },
  {
   "cell_type": "code",
   "execution_count": null,
   "id": "332a9af6",
   "metadata": {},
   "outputs": [],
   "source": []
  }
 ],
 "metadata": {
  "kernelspec": {
   "display_name": "Python 3 (ipykernel)",
   "language": "python",
   "name": "python3"
  },
  "language_info": {
   "codemirror_mode": {
    "name": "ipython",
    "version": 3
   },
   "file_extension": ".py",
   "mimetype": "text/x-python",
   "name": "python",
   "nbconvert_exporter": "python",
   "pygments_lexer": "ipython3",
   "version": "3.8.12"
  }
 },
 "nbformat": 4,
 "nbformat_minor": 5
}
