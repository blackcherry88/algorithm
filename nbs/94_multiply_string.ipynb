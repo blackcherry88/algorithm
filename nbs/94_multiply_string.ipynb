{
 "cells": [
  {
   "cell_type": "code",
   "execution_count": 1,
   "id": "d8834df3",
   "metadata": {},
   "outputs": [],
   "source": [
    "%load_ext autoreload\n",
    "%autoreload 2"
   ]
  },
  {
   "cell_type": "code",
   "execution_count": 2,
   "id": "e3ea219c",
   "metadata": {},
   "outputs": [],
   "source": [
    "#hide\n",
    "from nbdev.showdoc import *"
   ]
  },
  {
   "cell_type": "code",
   "execution_count": 89,
   "id": "0ae7bd3d",
   "metadata": {},
   "outputs": [],
   "source": [
    "def add_multiplication(r, i, e1, j, e2):\n",
    "    m = e1 * e2\n",
    "    ones = m % 10\n",
    "    c = m // 10\n",
    "    \n",
    "    p = len(r) - (i + j) - 1\n",
    "    while p>=0:\n",
    "        t = r[p] + ones\n",
    "        r[p] = t % 10\n",
    "        c += t // 10\n",
    "        if c <= 0:\n",
    "            break\n",
    "        ones = c\n",
    "        c = 0\n",
    "        p -= 1\n",
    "\n",
    "\n",
    "def multiply_string(n1, n2):\n",
    "    zero_digit = ord('0')\n",
    "    \n",
    "    # 1. to the list\n",
    "    n1 = list(n1)\n",
    "    n2 = list(n2)\n",
    "    \n",
    "    # 2. to digits\n",
    "    n1 = [ord(c) - zero_digit for c in n1]\n",
    "    n2 = [ord(c) - zero_digit for c in n2]\n",
    "    \n",
    "    # 3. init result\n",
    "    r = [0] * (len(n1) + len(n2) + 1)\n",
    "    \n",
    "    # 4. multiply each item in n1 and n2 and add result back\n",
    "    sz1 = len(n1)\n",
    "    sz2 = len(n2)\n",
    "    \n",
    "    for i, e1 in enumerate(n1):\n",
    "        for j, e2 in enumerate(n2):\n",
    "            add_multiplication(r, sz1-i-1, e1, sz2-j-1, e2)\n",
    "    \n",
    "    r = [str(c) for c in r if c != 0]\n",
    "    return ''.join(r)\n",
    "    "
   ]
  },
  {
   "cell_type": "code",
   "execution_count": 90,
   "id": "ca3d117a",
   "metadata": {},
   "outputs": [
    {
     "data": {
      "text/plain": [
       "[0, 3, 6, 0, 0, 0]"
      ]
     },
     "execution_count": 90,
     "metadata": {},
     "output_type": "execute_result"
    }
   ],
   "source": [
    "n1 = '985'\n",
    "n2 = '45'\n",
    "\n",
    "r = [0] * 6\n",
    "len(r)\n",
    "sz1 = len(n1)\n",
    "sz2 = len(n2)\n",
    "\n",
    "zero_digit = ord('0'[0])\n",
    "add_multiplication(r, sz1-1, ord(n1[0])-zero_digit, sz2-1, ord(n2[0])-zero_digit)\n",
    "r"
   ]
  },
  {
   "cell_type": "code",
   "execution_count": 91,
   "id": "42e72ea4",
   "metadata": {},
   "outputs": [
    {
     "data": {
      "text/plain": [
       "44325"
      ]
     },
     "execution_count": 91,
     "metadata": {},
     "output_type": "execute_result"
    }
   ],
   "source": [
    "r = multiply_string(n1, n2)\n",
    "r = int(r)\n",
    "r"
   ]
  },
  {
   "cell_type": "code",
   "execution_count": 92,
   "id": "bdbae10d",
   "metadata": {},
   "outputs": [
    {
     "data": {
      "text/plain": [
       "True"
      ]
     },
     "execution_count": 92,
     "metadata": {},
     "output_type": "execute_result"
    }
   ],
   "source": [
    "r == 985*45"
   ]
  },
  {
   "cell_type": "code",
   "execution_count": 99,
   "id": "cfd37cdc",
   "metadata": {},
   "outputs": [],
   "source": [
    "def multiply_string2(n1, n2):\n",
    "    # 1 init result\n",
    "    r = [0] * (len(n1) + len(n2))\n",
    "    \n",
    "    # 2. multiply reverse\n",
    "    for i, e1 in enumerate(reversed(n1)):\n",
    "        for j, e2 in enumerate(reversed(n2)):\n",
    "            r[i+j] += (int(e1) * int(e2))\n",
    "            r[i+j+1] += r[i+j] // 10\n",
    "            r[i+j] %= 10\n",
    "\n",
    "    # 3. reverse back\n",
    "    r.reverse()\n",
    "    \n",
    "    # 4. get rid leading zeros\n",
    "    i = 0\n",
    "    while (i < len(r)) and (r[i] == 0):\n",
    "        i += 1\n",
    "    r = [str(c) for c in r[i:]]\n",
    "    return ''.join(r)\n",
    "    "
   ]
  },
  {
   "cell_type": "code",
   "execution_count": 100,
   "id": "5765f879",
   "metadata": {},
   "outputs": [
    {
     "data": {
      "text/plain": [
       "'44325'"
      ]
     },
     "execution_count": 100,
     "metadata": {},
     "output_type": "execute_result"
    }
   ],
   "source": [
    "n1 = '985'\n",
    "n2 = '45'\n",
    "r = multiply_string2(n1, n2)\n",
    "r"
   ]
  },
  {
   "cell_type": "code",
   "execution_count": 101,
   "id": "c319ae51",
   "metadata": {},
   "outputs": [
    {
     "data": {
      "text/plain": [
       "True"
      ]
     },
     "execution_count": 101,
     "metadata": {},
     "output_type": "execute_result"
    }
   ],
   "source": [
    "int(r) == 985*45"
   ]
  },
  {
   "cell_type": "code",
   "execution_count": null,
   "id": "ea149df3",
   "metadata": {},
   "outputs": [],
   "source": []
  }
 ],
 "metadata": {
  "kernelspec": {
   "display_name": "Python 3 (ipykernel)",
   "language": "python",
   "name": "python3"
  },
  "language_info": {
   "codemirror_mode": {
    "name": "ipython",
    "version": 3
   },
   "file_extension": ".py",
   "mimetype": "text/x-python",
   "name": "python",
   "nbconvert_exporter": "python",
   "pygments_lexer": "ipython3",
   "version": "3.8.12"
  }
 },
 "nbformat": 4,
 "nbformat_minor": 5
}
