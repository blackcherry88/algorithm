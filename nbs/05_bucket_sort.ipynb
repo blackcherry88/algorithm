{
 "cells": [
  {
   "cell_type": "code",
   "execution_count": 11,
   "id": "377206d9",
   "metadata": {},
   "outputs": [],
   "source": [
    "%load_ext autoreload\n",
    "%autoreload 2"
   ]
  },
  {
   "cell_type": "code",
   "execution_count": 12,
   "id": "fbdc4928",
   "metadata": {},
   "outputs": [],
   "source": [
    "# default_exp core.sorting.bucket_sort"
   ]
  },
  {
   "cell_type": "code",
   "execution_count": 3,
   "id": "5b7f613c",
   "metadata": {},
   "outputs": [],
   "source": [
    "# export\n",
    "\n",
    "def bucket_sort(a):\n",
    "    if not a:\n",
    "        return a\n",
    "    \n",
    "    # O(n)\n",
    "    k = max(a)+1\n",
    "    # O(k)\n",
    "    c = [0] * k\n",
    "    \n",
    "    # O(n)\n",
    "    for i in a:\n",
    "        c[i] += 1\n",
    "    \n",
    "    p = 0\n",
    "    for i, cnt in enumerate(c):\n",
    "        for j in range(cnt):\n",
    "            a[p] = i\n",
    "            p += 1\n",
    "    return a"
   ]
  },
  {
   "cell_type": "code",
   "execution_count": 4,
   "id": "8cc257f1",
   "metadata": {},
   "outputs": [
    {
     "name": "stdout",
     "output_type": "stream",
     "text": [
      "AAA [0, 0, 2, 1, 1, 3]\n"
     ]
    },
    {
     "data": {
      "text/plain": [
       "[2, 2, 3, 4, 5, 5, 5]"
      ]
     },
     "execution_count": 4,
     "metadata": {},
     "output_type": "execute_result"
    }
   ],
   "source": [
    "a = [3, 4, 5, 5, 5, 2, 2]\n",
    "bucket_sort(a)"
   ]
  },
  {
   "cell_type": "code",
   "execution_count": null,
   "id": "17229b74",
   "metadata": {},
   "outputs": [],
   "source": []
  }
 ],
 "metadata": {
  "kernelspec": {
   "display_name": "Python 3 (ipykernel)",
   "language": "python",
   "name": "python3"
  },
  "language_info": {
   "codemirror_mode": {
    "name": "ipython",
    "version": 3
   },
   "file_extension": ".py",
   "mimetype": "text/x-python",
   "name": "python",
   "nbconvert_exporter": "python",
   "pygments_lexer": "ipython3",
   "version": "3.8.12"
  }
 },
 "nbformat": 4,
 "nbformat_minor": 5
}
