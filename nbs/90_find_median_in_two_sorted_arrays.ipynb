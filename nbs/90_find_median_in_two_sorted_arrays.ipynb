{
 "cells": [
  {
   "cell_type": "code",
   "execution_count": 1,
   "id": "d8834df3",
   "metadata": {},
   "outputs": [],
   "source": [
    "%load_ext autoreload\n",
    "%autoreload 2"
   ]
  },
  {
   "cell_type": "code",
   "execution_count": 2,
   "id": "e3ea219c",
   "metadata": {},
   "outputs": [],
   "source": [
    "#hide\n",
    "from nbdev.showdoc import *"
   ]
  },
  {
   "cell_type": "code",
   "execution_count": 3,
   "id": "d2c9e320",
   "metadata": {},
   "outputs": [],
   "source": [
    "def find_kth(a, b, k):\n",
    "    sz_a, sz_b = len(a), len(b)\n",
    "    if k <= 0:\n",
    "        raise ValueError(f\"{k}th is zero\")\n",
    "        \n",
    "    if k > sz_a + sz_b:\n",
    "        raise ValueError(f\"{k} is too large than {sz_a} + {sz_b}\")\n",
    "        \n",
    "    if sz_a <= 0:\n",
    "        return b[k-1]\n",
    "    if sz_b <= 0:\n",
    "        return a[k-1]\n",
    "    \n",
    "    if k == 1:\n",
    "        return min(a[0], b[0])\n",
    "    \n",
    "    m_a = min(k // 2, sz_a)\n",
    "    m_b = k - m_a\n",
    "    \n",
    "    if a[m_a-1] > b[m_b-1]:\n",
    "        # anything not greater than m_b is not the soluation\n",
    "        # anthing greater than m_a is not the solution either\n",
    "        return find_kth(a[:m_a], b[m_b:m_b+k], k - m_b)\n",
    "    else:\n",
    "        return find_kth(a[m_a:m_a+k], b[:m_b], k - m_a)\n",
    "        \n",
    "        "
   ]
  },
  {
   "cell_type": "code",
   "execution_count": 4,
   "id": "1ff64ca6",
   "metadata": {},
   "outputs": [
    {
     "data": {
      "text/plain": [
       "3"
      ]
     },
     "execution_count": 4,
     "metadata": {},
     "output_type": "execute_result"
    }
   ],
   "source": [
    "a = [-5, 3, 6, 12, 15]\n",
    "b = [-12, -10, -6, -3, 4, 10]\n",
    "\n",
    "median = (len(a) + len(b)+1)//2\n",
    "find_kth(a, b, median)"
   ]
  },
  {
   "cell_type": "markdown",
   "id": "7a8c2fa5",
   "metadata": {},
   "source": [
    "Note if you don't want copy of array, we can keep the index in each array, instead of copy it"
   ]
  }
 ],
 "metadata": {
  "kernelspec": {
   "display_name": "Python 3 (ipykernel)",
   "language": "python",
   "name": "python3"
  },
  "language_info": {
   "codemirror_mode": {
    "name": "ipython",
    "version": 3
   },
   "file_extension": ".py",
   "mimetype": "text/x-python",
   "name": "python",
   "nbconvert_exporter": "python",
   "pygments_lexer": "ipython3",
   "version": "3.8.12"
  }
 },
 "nbformat": 4,
 "nbformat_minor": 5
}
