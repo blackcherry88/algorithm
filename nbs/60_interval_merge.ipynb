{
 "cells": [
  {
   "cell_type": "code",
   "execution_count": 1,
   "id": "d8834df3",
   "metadata": {},
   "outputs": [],
   "source": [
    "%load_ext autoreload\n",
    "%autoreload 2"
   ]
  },
  {
   "cell_type": "code",
   "execution_count": 2,
   "id": "e3ea219c",
   "metadata": {},
   "outputs": [],
   "source": [
    "#hide\n",
    "from nbdev.showdoc import *"
   ]
  },
  {
   "cell_type": "code",
   "execution_count": 6,
   "id": "ea149df3",
   "metadata": {},
   "outputs": [],
   "source": [
    "\n",
    "def merge_intervals(intervals):\n",
    "    sz = len(intervals)\n",
    "    if sz <= 0:\n",
    "        return intervals\n",
    "    \n",
    "    sorted(intervals)\n",
    "    p = 0\n",
    "    for i in range(1, sz):\n",
    "        if intervals[p][1] < intervals[i][0]:\n",
    "            p += 1\n",
    "            if p != i:\n",
    "                intervals[p] = intervals[i]\n",
    "        else:\n",
    "            intervals[p][1] = max(intervals[p][1], intervals[i][1])\n",
    "    \n",
    "    return intervals[:p+1]\n"
   ]
  },
  {
   "cell_type": "code",
   "execution_count": 7,
   "id": "55bed8ab",
   "metadata": {},
   "outputs": [
    {
     "data": {
      "text/plain": [
       "[[1, 6], [8, 10], [15, 18]]"
      ]
     },
     "execution_count": 7,
     "metadata": {},
     "output_type": "execute_result"
    }
   ],
   "source": [
    "intervals = [[1,3],[2,6],[8,10],[15,18]]\n",
    "merge_intervals(intervals)"
   ]
  },
  {
   "cell_type": "code",
   "execution_count": 8,
   "id": "06ac6276",
   "metadata": {},
   "outputs": [
    {
     "data": {
      "text/plain": [
       "[[1, 5]]"
      ]
     },
     "execution_count": 8,
     "metadata": {},
     "output_type": "execute_result"
    }
   ],
   "source": [
    "intervals = [[1,4],[4,5]]\n",
    "merge_intervals(intervals)"
   ]
  },
  {
   "cell_type": "code",
   "execution_count": null,
   "id": "72c97aa8",
   "metadata": {},
   "outputs": [],
   "source": []
  }
 ],
 "metadata": {
  "kernelspec": {
   "display_name": "Python 3 (ipykernel)",
   "language": "python",
   "name": "python3"
  },
  "language_info": {
   "codemirror_mode": {
    "name": "ipython",
    "version": 3
   },
   "file_extension": ".py",
   "mimetype": "text/x-python",
   "name": "python",
   "nbconvert_exporter": "python",
   "pygments_lexer": "ipython3",
   "version": "3.8.12"
  }
 },
 "nbformat": 4,
 "nbformat_minor": 5
}
