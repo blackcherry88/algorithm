{
 "cells": [
  {
   "cell_type": "code",
   "execution_count": 1,
   "id": "377206d9",
   "metadata": {},
   "outputs": [],
   "source": [
    "%load_ext autoreload\n",
    "%autoreload 2"
   ]
  },
  {
   "cell_type": "code",
   "execution_count": 3,
   "id": "2dc93a1f",
   "metadata": {},
   "outputs": [],
   "source": [
    "#hide\n",
    "from nbdev.showdoc import *"
   ]
  },
  {
   "cell_type": "code",
   "execution_count": 24,
   "id": "ffbc3329",
   "metadata": {},
   "outputs": [],
   "source": [
    "# Definition for a binary tree node.\n",
    "class Node:\n",
    "    def __init__(self, x):\n",
    "        self.val = x\n",
    "        self.left = None\n",
    "        self.right = None\n",
    "        \n",
    "        \n",
    "def print_tree(root, level=0):\n",
    "    if root is None:\n",
    "        return\n",
    "    \n",
    "    if root.left:\n",
    "        print_tree(root.left, level+1)\n",
    "    prefix = '-'*level*2\n",
    "    print(f\"{prefix}{root.val}\")\n",
    "    if root.right:\n",
    "        print_tree(root.right, level+1)\n",
    "    \n",
    "\n",
    "def insert(root, x):     \n",
    "    if (root == None):\n",
    "        return Node(x)\n",
    "    if (x < root.val):\n",
    "        root.left = insert(root.left, x)\n",
    "    elif (x > root.val):\n",
    "        root.right = insert(root.right, x)\n",
    "    return root\n",
    "\n",
    "\n",
    "def kth(root: Node, k: int) -> Node:\n",
    "    count = 0\n",
    "    \n",
    "    def _inner_kth(root: Node, k: int):\n",
    "        nonlocal count\n",
    "        \n",
    "        if root is None:\n",
    "            return None\n",
    "        \n",
    "        if root.left is not None:\n",
    "            print(f\"AAA search left {root.left.val}\")\n",
    "            r = _inner_kth(root.left, k)\n",
    "            if r:\n",
    "                return r\n",
    "        count += 1\n",
    "        if count == k:\n",
    "            print(f\"BBB found {count} {root.val}\")\n",
    "            return root\n",
    "        if root.right is not None:\n",
    "            print(f\"CCC search right {root.right.val}\")\n",
    "            return _inner_kth(root.right, k)\n",
    "        \n",
    "    return _inner_kth(root, k)\n",
    "        "
   ]
  },
  {
   "cell_type": "code",
   "execution_count": 23,
   "id": "09b4a611",
   "metadata": {},
   "outputs": [],
   "source": [
    "root = None\n",
    "keys = [ 20, 8, 22, 4, 12, 10, 14 ]\n",
    "\n",
    "for x in keys:\n",
    "    root = insert(root, x)"
   ]
  },
  {
   "cell_type": "code",
   "execution_count": 25,
   "id": "5fdc5ab2",
   "metadata": {},
   "outputs": [
    {
     "name": "stdout",
     "output_type": "stream",
     "text": [
      "----4\n",
      "--8\n",
      "------10\n",
      "----12\n",
      "------14\n",
      "20\n",
      "--22\n"
     ]
    }
   ],
   "source": [
    "print_tree(root)"
   ]
  },
  {
   "cell_type": "code",
   "execution_count": 26,
   "id": "6e0354e9",
   "metadata": {},
   "outputs": [
    {
     "name": "stdout",
     "output_type": "stream",
     "text": [
      "AAA search left 8\n",
      "AAA search left 4\n",
      "CCC search right 12\n",
      "AAA search left 10\n",
      "CCC search right 14\n",
      "CCC search right 22\n",
      "BBB found 7 22\n"
     ]
    },
    {
     "data": {
      "text/plain": [
       "<__main__.Node at 0x15e0ab6adc0>"
      ]
     },
     "execution_count": 26,
     "metadata": {},
     "output_type": "execute_result"
    }
   ],
   "source": [
    "r = kth(root, 7)\n",
    "r"
   ]
  },
  {
   "cell_type": "code",
   "execution_count": null,
   "id": "9a85d346",
   "metadata": {},
   "outputs": [],
   "source": []
  }
 ],
 "metadata": {
  "kernelspec": {
   "display_name": "Python 3 (ipykernel)",
   "language": "python",
   "name": "python3"
  },
  "language_info": {
   "codemirror_mode": {
    "name": "ipython",
    "version": 3
   },
   "file_extension": ".py",
   "mimetype": "text/x-python",
   "name": "python",
   "nbconvert_exporter": "python",
   "pygments_lexer": "ipython3",
   "version": "3.8.12"
  }
 },
 "nbformat": 4,
 "nbformat_minor": 5
}
