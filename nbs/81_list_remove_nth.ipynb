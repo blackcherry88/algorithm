{
 "cells": [
  {
   "cell_type": "code",
   "execution_count": 1,
   "id": "d8834df3",
   "metadata": {},
   "outputs": [],
   "source": [
    "%load_ext autoreload\n",
    "%autoreload 2"
   ]
  },
  {
   "cell_type": "code",
   "execution_count": 2,
   "id": "e3ea219c",
   "metadata": {},
   "outputs": [],
   "source": [
    "#hide\n",
    "from nbdev.showdoc import *"
   ]
  },
  {
   "cell_type": "code",
   "execution_count": 31,
   "id": "85626e40",
   "metadata": {},
   "outputs": [],
   "source": [
    "from typing import Optional\n",
    "\n",
    "\n",
    "# Definition for singly-linked list.\n",
    "class ListNode:\n",
    "    def __init__(self, x):\n",
    "        self.val = x\n",
    "        self.next = None\n",
    "\n",
    "        \n",
    "def create_list(a):\n",
    "    if a is None:\n",
    "        return None;\n",
    "    sz = len(a)\n",
    "    if sz <= 0:\n",
    "        return None\n",
    "    head = ListNode(a[0])\n",
    "    p = head\n",
    "    for i in a[1:]:\n",
    "        p.next = ListNode(i)\n",
    "        p = p.next\n",
    "    return head\n",
    "\n",
    "\n",
    "def to_array(head):\n",
    "    r = []\n",
    "    if head is None:\n",
    "        return r\n",
    "    \n",
    "    p = head\n",
    "    while p is not None:\n",
    "        r.append(p.val)\n",
    "        p = p.next\n",
    "    return r\n",
    "        \n",
    "\n",
    "def remove_nth_from_end(head: Optional[ListNode], n: int) -> Optional[ListNode]:\n",
    "    if n <= 0:\n",
    "        return head\n",
    "    \n",
    "    s = head\n",
    "    f = head\n",
    "    for _ in range(n):\n",
    "        if f is None:\n",
    "            return head\n",
    "        f = f.next\n",
    "        \n",
    "    if f is None:\n",
    "        head = head.next\n",
    "        return head\n",
    "\n",
    "    # go one more step \n",
    "    # as s and f has n + 1 gap\n",
    "    f = f.next\n",
    "        \n",
    "    while f is not None:\n",
    "        f = f.next\n",
    "        s = s.next\n",
    "    s.next = s.next.next    \n",
    "    return head\n",
    "    "
   ]
  },
  {
   "cell_type": "code",
   "execution_count": 32,
   "id": "28aa1607",
   "metadata": {},
   "outputs": [
    {
     "data": {
      "text/plain": [
       "[1, 2, 3, 4, 5]"
      ]
     },
     "execution_count": 32,
     "metadata": {},
     "output_type": "execute_result"
    }
   ],
   "source": [
    "a = [1, 2, 3, 4, 5]\n",
    "head = create_list(a)\n",
    "to_array(head)\n"
   ]
  },
  {
   "cell_type": "code",
   "execution_count": 33,
   "id": "c4318814",
   "metadata": {},
   "outputs": [
    {
     "data": {
      "text/plain": [
       "[1, 2, 3, 5]"
      ]
     },
     "execution_count": 33,
     "metadata": {},
     "output_type": "execute_result"
    }
   ],
   "source": [
    "n = 2\n",
    "remove_nth_from_end(head, n)\n",
    "to_array(head)"
   ]
  },
  {
   "cell_type": "code",
   "execution_count": 34,
   "id": "41523971",
   "metadata": {},
   "outputs": [
    {
     "data": {
      "text/plain": [
       "[1]"
      ]
     },
     "execution_count": 34,
     "metadata": {},
     "output_type": "execute_result"
    }
   ],
   "source": [
    "a = [1]\n",
    "head = create_list(a)\n",
    "to_array(head)"
   ]
  },
  {
   "cell_type": "code",
   "execution_count": 36,
   "id": "e16b7538",
   "metadata": {},
   "outputs": [
    {
     "data": {
      "text/plain": [
       "[]"
      ]
     },
     "execution_count": 36,
     "metadata": {},
     "output_type": "execute_result"
    }
   ],
   "source": [
    "n = 1\n",
    "head = remove_nth_from_end(head, n)\n",
    "to_array(head)"
   ]
  },
  {
   "cell_type": "code",
   "execution_count": 38,
   "id": "fdb524c7",
   "metadata": {},
   "outputs": [
    {
     "data": {
      "text/plain": [
       "[1]"
      ]
     },
     "execution_count": 38,
     "metadata": {},
     "output_type": "execute_result"
    }
   ],
   "source": [
    "head = [1,2]\n",
    "n = 1\n",
    "head = create_list(head)\n",
    "head = remove_nth_from_end(head, n)\n",
    "to_array(head)"
   ]
  },
  {
   "cell_type": "code",
   "execution_count": null,
   "id": "082babb0",
   "metadata": {},
   "outputs": [],
   "source": []
  }
 ],
 "metadata": {
  "kernelspec": {
   "display_name": "Python 3 (ipykernel)",
   "language": "python",
   "name": "python3"
  },
  "language_info": {
   "codemirror_mode": {
    "name": "ipython",
    "version": 3
   },
   "file_extension": ".py",
   "mimetype": "text/x-python",
   "name": "python",
   "nbconvert_exporter": "python",
   "pygments_lexer": "ipython3",
   "version": "3.8.12"
  }
 },
 "nbformat": 4,
 "nbformat_minor": 5
}
