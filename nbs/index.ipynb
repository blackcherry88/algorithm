{
 "cells": [
  {
   "cell_type": "markdown",
   "metadata": {},
   "source": [
    "# Algorithm\n",
    "> Implement common algorithms and data structures\n"
   ]
  },
  {
   "cell_type": "markdown",
   "metadata": {},
   "source": [
    "This file will become your README and also the index of your documentation."
   ]
  },
  {
   "cell_type": "markdown",
   "metadata": {},
   "source": [
    "## Install"
   ]
  },
  {
   "cell_type": "markdown",
   "metadata": {},
   "source": []
  },
  {
   "cell_type": "markdown",
   "metadata": {},
   "source": [
    "## How to use"
   ]
  },
  {
   "cell_type": "markdown",
   "metadata": {},
   "source": [
    "Fill me in please! Don't forget code examples:"
   ]
  },
  {
   "cell_type": "code",
   "execution_count": 4,
   "metadata": {},
   "outputs": [],
   "source": [
    "#hide"
   ]
  },
  {
   "cell_type": "code",
   "execution_count": 14,
   "metadata": {},
   "outputs": [
    {
     "name": "stdout",
     "output_type": "stream",
     "text": [
      "Converted 00_disjoint_set.ipynb.\n",
      "Converted 01_heap.ipynb.\n",
      "Converted 02_heap_find_median.ipynb.\n",
      "Converted 03_bineary_search_low.ipynb.\n",
      "Converted 04_count_sort.ipynb.\n",
      "Converted 04_move_zero_left.ipynb.\n",
      "Converted 05_bucket_sort.ipynb.\n",
      "Converted 06_merge_sort.ipynb.\n",
      "Converted 09_lru_cache.ipynb.\n",
      "Converted 10_max_sub_sequence.ipynb.\n",
      "Converted 11_rotate_matrix_90.ipynb.\n",
      "Converted 20_tree_lowest_common_ancestor.ipynb.\n",
      "Converted 21_kth_smallest_bst.ipynb.\n",
      "Converted 21_tree_max_bst.ipynb.\n",
      "Converted 22_segment_tree.ipynb.\n",
      "Converted 23_minimum_spanning_tree.ipynb.\n",
      "Converted 24_tree_doubly_linked_list.ipynb.\n",
      "Converted 24_tree_path_sum.ipynb.\n",
      "Converted 30_graph_bsf_wordladder.ipynb.\n",
      "Converted 31_graph_water_flow.ipynb.\n",
      "Converted 33_graph_choose_course.ipynb.\n",
      "Converted 42_knapsack.ipynb.\n",
      "Converted 43_painting_fence.ipynb.\n",
      "Converted 43_permutation.ipynb.\n",
      "Converted 50_string_suffix_trie.ipynb.\n",
      "Converted 50_string_trie.ipynb.\n",
      "Converted 51_string_sgementation.ipynb.\n",
      "Converted 52_string_substring_max_distinct.ipynb.\n",
      "Converted 53_string_match_kmp.ipynb.\n",
      "Converted 54_string_long_common_substr.ipynb.\n",
      "Converted 55_string_edit_distance.ipynb.\n",
      "Converted 60_interval_merge.ipynb.\n",
      "Converted 61_interval_remove.ipynb.\n",
      "Converted 70_recursive_8_queens.ipynb.\n",
      "Converted 71_recursive_phone_words.ipynb.\n",
      "Converted 80_list_cycle.ipynb.\n",
      "Converted 81_list_remove_nth.ipynb.\n",
      "Converted 901_scribble_set.ipynb.\n",
      "Converted 902_scribble_anytree.ipynb.\n",
      "Converted 90_find_median_in_two_sorted_arrays.ipynb.\n",
      "Converted 90_string_long_substring_without_repeat.ipynb.\n",
      "Converted 91_remove_duplicates_in_sorted.ipynb.\n",
      "Converted 91_roman_to_integer.ipynb.\n",
      "Converted 92_merge_k_sorted_list.ipynb.\n",
      "Converted 93_count_and_say.ipynb.\n",
      "Converted 94_multiply_string.ipynb.\n",
      "Converted index.ipynb.\n"
     ]
    }
   ],
   "source": [
    "#hide\n",
    "from nbdev.export import notebook2script\n",
    "\n",
    "notebook2script()"
   ]
  },
  {
   "cell_type": "code",
   "execution_count": null,
   "metadata": {},
   "outputs": [],
   "source": []
  }
 ],
 "metadata": {
  "kernelspec": {
   "display_name": "Python 3 (ipykernel)",
   "language": "python",
   "name": "python3"
  },
  "language_info": {
   "codemirror_mode": {
    "name": "ipython",
    "version": 3
   },
   "file_extension": ".py",
   "mimetype": "text/x-python",
   "name": "python",
   "nbconvert_exporter": "python",
   "pygments_lexer": "ipython3",
   "version": "3.8.12"
  }
 },
 "nbformat": 4,
 "nbformat_minor": 4
}
