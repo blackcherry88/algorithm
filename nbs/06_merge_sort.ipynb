{
 "cells": [
  {
   "cell_type": "code",
   "execution_count": 11,
   "id": "377206d9",
   "metadata": {},
   "outputs": [],
   "source": [
    "%load_ext autoreload\n",
    "%autoreload 2"
   ]
  },
  {
   "cell_type": "code",
   "execution_count": 12,
   "id": "fbdc4928",
   "metadata": {},
   "outputs": [],
   "source": [
    "# default_exp core.sorting.merge_sort"
   ]
  },
  {
   "cell_type": "code",
   "execution_count": 4,
   "id": "5b7f613c",
   "metadata": {},
   "outputs": [],
   "source": [
    "# export\n",
    "\n",
    "def _merge_sort(a, t, left, right):\n",
    "    if left >= right:\n",
    "        return a\n",
    "    mid = (left + right)//2\n",
    "    _merge_sort(a, t, left, mid)\n",
    "    _merge_sort(a, t, mid+1, right)\n",
    "    _merge(a, t, left, mid+1, right)\n",
    "    \n",
    "\n",
    "def _merge(a, t, left, right, right_end):\n",
    "    s = left\n",
    "    left_end = right - 1\n",
    "    i = left\n",
    "    \n",
    "    while left <= left_end and right <= right_end:\n",
    "        if a[left] <= a[right]:\n",
    "            t[i] = a[left]\n",
    "            i += 1\n",
    "            left += 1\n",
    "        else:\n",
    "            t[i] = a[right]\n",
    "            i += 1\n",
    "            right += 1\n",
    "            \n",
    "    while left <= left_end:\n",
    "        t[i] = a[left]\n",
    "        i += 1\n",
    "        left += 1\n",
    "        \n",
    "    while right <= right_end:\n",
    "        t[i] = a[right]\n",
    "        i += 1\n",
    "        right += 1\n",
    "        \n",
    "    for i in range(s, right_end+1):\n",
    "        a[i] = t[i]\n",
    "        \n",
    "    \n",
    "def merge_sort(a):\n",
    "    if not a:\n",
    "        return a\n",
    "    \n",
    "    sz = len(a)\n",
    "    t = [None]*sz\n",
    "    _merge_sort(a, t, 0, sz-1)\n",
    "    return a\n"
   ]
  },
  {
   "cell_type": "code",
   "execution_count": 5,
   "id": "8cc257f1",
   "metadata": {},
   "outputs": [
    {
     "data": {
      "text/plain": [
       "[2, 2, 3, 4, 5, 5, 5]"
      ]
     },
     "execution_count": 5,
     "metadata": {},
     "output_type": "execute_result"
    }
   ],
   "source": [
    "a = [3, 4, 5, 5, 5, 2, 2]\n",
    "merge_sort(a)"
   ]
  },
  {
   "cell_type": "code",
   "execution_count": null,
   "id": "17229b74",
   "metadata": {},
   "outputs": [],
   "source": []
  }
 ],
 "metadata": {
  "kernelspec": {
   "display_name": "Python 3 (ipykernel)",
   "language": "python",
   "name": "python3"
  },
  "language_info": {
   "codemirror_mode": {
    "name": "ipython",
    "version": 3
   },
   "file_extension": ".py",
   "mimetype": "text/x-python",
   "name": "python",
   "nbconvert_exporter": "python",
   "pygments_lexer": "ipython3",
   "version": "3.8.12"
  }
 },
 "nbformat": 4,
 "nbformat_minor": 5
}
