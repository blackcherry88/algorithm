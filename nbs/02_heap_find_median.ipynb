{
 "cells": [
  {
   "cell_type": "code",
   "execution_count": 3,
   "id": "377206d9",
   "metadata": {},
   "outputs": [],
   "source": [
    "%load_ext autoreload\n",
    "%autoreload 2"
   ]
  },
  {
   "cell_type": "code",
   "execution_count": 6,
   "id": "84a1ca6e",
   "metadata": {},
   "outputs": [],
   "source": [
    "import heapq\n",
    "\n",
    "\n",
    "class MedianFinder:\n",
    "    \n",
    "    def __init__(self):\n",
    "        # ensure len(high_half) >= len(low_half)\n",
    "        # high_half is min heap\n",
    "        self.high_half = []\n",
    "        # low_half is max heap\n",
    "        self.low_half = []\n",
    "        \n",
    "    def add(self, x):\n",
    "        h_sz = len(self.high_half)\n",
    "        l_sz = len(self.low_half)\n",
    "        if l_sz < h_sz:\n",
    "            if x < self.high_half[0]:\n",
    "                heapq.heappush(self.low_half, -x)\n",
    "            else:\n",
    "                x = heapq.heappushpop(self.high_half, x)\n",
    "                heapq.heappush(self.low_half, -x)\n",
    "        else:\n",
    "            if (l_sz > 0) and (x < -self.low_half[0]):\n",
    "                x = heapq.heappushpop(self.low_half, -x)\n",
    "                x = -x\n",
    "            heapq.heappush(self.high_half, x)\n",
    "            \n",
    "    def get_median(self):\n",
    "        h_sz = len(self.high_half)\n",
    "        l_sz = len(self.low_half)\n",
    "        if (h_sz + l_sz)%2 == 1:\n",
    "            return self.high_half[0]\n",
    "        else:\n",
    "            if l_sz <= 0:\n",
    "                return None\n",
    "            return (-self.low_half[0] + self.high_half[0])/2 \n",
    "            \n",
    "        "
   ]
  },
  {
   "cell_type": "code",
   "execution_count": 9,
   "id": "d8e77e82",
   "metadata": {},
   "outputs": [],
   "source": [
    "median = MedianFinder()\n",
    "median.get_median()"
   ]
  },
  {
   "cell_type": "code",
   "execution_count": 10,
   "id": "b2fcd7e8",
   "metadata": {},
   "outputs": [
    {
     "data": {
      "text/plain": [
       "1.5"
      ]
     },
     "execution_count": 10,
     "metadata": {},
     "output_type": "execute_result"
    }
   ],
   "source": [
    "median.add(1)\n",
    "median.add(2)\n",
    "median.get_median()"
   ]
  },
  {
   "cell_type": "code",
   "execution_count": 11,
   "id": "91e6beb5",
   "metadata": {},
   "outputs": [
    {
     "data": {
      "text/plain": [
       "2"
      ]
     },
     "execution_count": 11,
     "metadata": {},
     "output_type": "execute_result"
    }
   ],
   "source": [
    "median.add(3)\n",
    "median.get_median()"
   ]
  },
  {
   "cell_type": "code",
   "execution_count": null,
   "id": "6299c694",
   "metadata": {},
   "outputs": [],
   "source": []
  }
 ],
 "metadata": {
  "kernelspec": {
   "display_name": "Python 3 (ipykernel)",
   "language": "python",
   "name": "python3"
  },
  "language_info": {
   "codemirror_mode": {
    "name": "ipython",
    "version": 3
   },
   "file_extension": ".py",
   "mimetype": "text/x-python",
   "name": "python",
   "nbconvert_exporter": "python",
   "pygments_lexer": "ipython3",
   "version": "3.8.12"
  }
 },
 "nbformat": 4,
 "nbformat_minor": 5
}
