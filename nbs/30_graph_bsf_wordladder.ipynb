{
 "cells": [
  {
   "cell_type": "code",
   "execution_count": 1,
   "id": "d8834df3",
   "metadata": {},
   "outputs": [],
   "source": [
    "%load_ext autoreload\n",
    "%autoreload 2"
   ]
  },
  {
   "cell_type": "code",
   "execution_count": 2,
   "id": "e3ea219c",
   "metadata": {},
   "outputs": [],
   "source": [
    "#hide\n",
    "from nbdev.showdoc import *"
   ]
  },
  {
   "cell_type": "code",
   "execution_count": 12,
   "id": "4e900a07",
   "metadata": {},
   "outputs": [],
   "source": [
    "from typing import List\n",
    "from collections import deque\n",
    "import string\n",
    "\n",
    "\n",
    "def ladder_length(begin: str, end: str, words: List[str]) -> int:\n",
    "    words = set(words)\n",
    "    if end not in words:\n",
    "        return 0\n",
    "    \n",
    "    if begin == end:\n",
    "        return 1\n",
    "    \n",
    "    visited = set()\n",
    "    q = deque()\n",
    "    visited.add(begin)\n",
    "    q.append((begin, 1))\n",
    "    \n",
    "    while q:\n",
    "        item, c = q.popleft()\n",
    "        sz = len(item)\n",
    "        # search one char change from item\n",
    "        for i in range(sz):\n",
    "            # \n",
    "            # for x in range(ord('a'), ord('z')+1):\n",
    "            for x in string.ascii_lowercase:\n",
    "                if x == item[i]:\n",
    "                    continue\n",
    "                w = item[:i] + x + item[i+1:]\n",
    "                if w in visited:\n",
    "                    continue\n",
    "                if w not in words:\n",
    "                    continue\n",
    "                if w == end:\n",
    "                    return c+1\n",
    "                \n",
    "                visited.add(w)\n",
    "                q.append((w, c+1))\n",
    "    return 0\n",
    "                \n",
    "                \n",
    "    "
   ]
  },
  {
   "cell_type": "code",
   "execution_count": 7,
   "id": "157557c5",
   "metadata": {},
   "outputs": [],
   "source": [
    "begin = \"hit\"\n",
    "end = \"cog\"\n",
    "words = [\"hot\",\"dot\",\"dog\",\"lot\",\"log\",\"cog\"]"
   ]
  },
  {
   "cell_type": "code",
   "execution_count": 8,
   "id": "364ec501",
   "metadata": {},
   "outputs": [
    {
     "data": {
      "text/plain": [
       "5"
      ]
     },
     "execution_count": 8,
     "metadata": {},
     "output_type": "execute_result"
    }
   ],
   "source": [
    "ladder_length(begin, end, words)"
   ]
  },
  {
   "cell_type": "code",
   "execution_count": 13,
   "id": "f2925282",
   "metadata": {},
   "outputs": [],
   "source": [
    "begin = \"hit\"\n",
    "end = \"cog\"\n",
    "words = [\"hot\",\"dot\",\"dog\",\"lot\",\"log\"]"
   ]
  },
  {
   "cell_type": "code",
   "execution_count": 14,
   "id": "e1dd61ff",
   "metadata": {},
   "outputs": [
    {
     "data": {
      "text/plain": [
       "0"
      ]
     },
     "execution_count": 14,
     "metadata": {},
     "output_type": "execute_result"
    }
   ],
   "source": [
    "ladder_length(begin, end, words)"
   ]
  },
  {
   "cell_type": "code",
   "execution_count": 17,
   "id": "34c1d41c",
   "metadata": {},
   "outputs": [],
   "source": [
    "def ladder_length2(begin: str, end: str, words: List[str]) -> int:\n",
    "    words = set(words)\n",
    "    if end not in words:\n",
    "        return 0\n",
    "    \n",
    "    if begin == end:\n",
    "        return 1\n",
    "    \n",
    "    q = deque()\n",
    "    q.append(begin)\n",
    "    \n",
    "    steps = 0\n",
    "    while q:\n",
    "        sz = len(q)\n",
    "        steps += 1\n",
    "        for _ in range(sz):\n",
    "            w = q.popleft()\n",
    "            w_len = len(w)\n",
    "            # search one char change from w\n",
    "            for i in range(w_len):\n",
    "                for c in string.ascii_lowercase:\n",
    "                    if c == w[i]:\n",
    "                        continue\n",
    "                    new_w = w[:i] + c + w[i+1:]\n",
    "                    if new_w not in words:\n",
    "                        continue\n",
    "                    # acts as a flag for whether we saw new_w before\n",
    "                    words.remove(new_w)\n",
    "                    if new_w == end:\n",
    "                        return steps + 1\n",
    "                    q.append(new_w)\n",
    "    return steps\n",
    "                \n",
    "                \n",
    "    "
   ]
  },
  {
   "cell_type": "code",
   "execution_count": 18,
   "id": "317ff2b7",
   "metadata": {},
   "outputs": [
    {
     "data": {
      "text/plain": [
       "5"
      ]
     },
     "execution_count": 18,
     "metadata": {},
     "output_type": "execute_result"
    }
   ],
   "source": [
    "begin = \"hit\"\n",
    "end = \"cog\"\n",
    "words = [\"hot\",\"dot\",\"dog\",\"lot\",\"log\",\"cog\"]\n",
    "ladder_length2(begin, end, words)"
   ]
  },
  {
   "cell_type": "code",
   "execution_count": null,
   "id": "85626e40",
   "metadata": {},
   "outputs": [],
   "source": []
  }
 ],
 "metadata": {
  "kernelspec": {
   "display_name": "Python 3 (ipykernel)",
   "language": "python",
   "name": "python3"
  },
  "language_info": {
   "codemirror_mode": {
    "name": "ipython",
    "version": 3
   },
   "file_extension": ".py",
   "mimetype": "text/x-python",
   "name": "python",
   "nbconvert_exporter": "python",
   "pygments_lexer": "ipython3",
   "version": "3.8.12"
  }
 },
 "nbformat": 4,
 "nbformat_minor": 5
}
