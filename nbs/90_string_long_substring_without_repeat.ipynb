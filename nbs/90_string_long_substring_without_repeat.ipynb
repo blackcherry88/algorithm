{
 "cells": [
  {
   "cell_type": "code",
   "execution_count": 1,
   "id": "d8834df3",
   "metadata": {},
   "outputs": [],
   "source": [
    "%load_ext autoreload\n",
    "%autoreload 2"
   ]
  },
  {
   "cell_type": "code",
   "execution_count": 2,
   "id": "e3ea219c",
   "metadata": {},
   "outputs": [],
   "source": [
    "#hide\n",
    "from nbdev.showdoc import *"
   ]
  },
  {
   "cell_type": "code",
   "execution_count": 9,
   "id": "082babb0",
   "metadata": {},
   "outputs": [],
   "source": [
    "def longest_substring(s):\n",
    "    sz = len(s)\n",
    "    if sz <= 1:\n",
    "        return s\n",
    "    \n",
    "    cache = [0]*sz\n",
    "    cache[-1] = sz\n",
    "    r = (sz-1, sz)\n",
    "    for i in range(sz-2, -1, -1):\n",
    "        b = i+1\n",
    "        e = cache[i+1]\n",
    "        found = False\n",
    "        for j in range(b, e):\n",
    "            if s[i] == s[j]:\n",
    "                found = True\n",
    "                cache[i] = j\n",
    "                break\n",
    "        if not found:\n",
    "            cache[i] = e\n",
    "        if cache[i] - i >  r[1] - r[0]:\n",
    "            r = (i, cache[i])\n",
    "    return s[r[0]:r[1]]\n",
    "            \n",
    "        "
   ]
  },
  {
   "cell_type": "code",
   "execution_count": 10,
   "id": "dff360ab",
   "metadata": {},
   "outputs": [
    {
     "data": {
      "text/plain": [
       "'abc'"
      ]
     },
     "execution_count": 10,
     "metadata": {},
     "output_type": "execute_result"
    }
   ],
   "source": [
    "s = \"abcabcbb\"\n",
    "longest_substring(s)"
   ]
  },
  {
   "cell_type": "code",
   "execution_count": 11,
   "id": "b378abbf",
   "metadata": {},
   "outputs": [
    {
     "data": {
      "text/plain": [
       "'b'"
      ]
     },
     "execution_count": 11,
     "metadata": {},
     "output_type": "execute_result"
    }
   ],
   "source": [
    "s = \"bbbbb\"\n",
    "longest_substring(s)"
   ]
  },
  {
   "cell_type": "code",
   "execution_count": 12,
   "id": "b40175ce",
   "metadata": {},
   "outputs": [
    {
     "data": {
      "text/plain": [
       "'kew'"
      ]
     },
     "execution_count": 12,
     "metadata": {},
     "output_type": "execute_result"
    }
   ],
   "source": [
    "s = \"pwwkew\"\n",
    "longest_substring(s)"
   ]
  },
  {
   "cell_type": "code",
   "execution_count": 25,
   "id": "f88034e2",
   "metadata": {},
   "outputs": [],
   "source": [
    "def longest_substring2(s):\n",
    "    sz = len(s)\n",
    "    if sz <= 1:\n",
    "        return s\n",
    "    \n",
    "    m = set()\n",
    "    r = (0, 1)\n",
    "    j = 1\n",
    "    m.add(s[0])\n",
    "    for i in range(0, sz):\n",
    "        if i >= j:\n",
    "            m.add(s[i])\n",
    "            j = i+1\n",
    "        while j < sz:\n",
    "            if s[j] in m:\n",
    "                break\n",
    "            m.add(s[j])\n",
    "            j += 1\n",
    "        if j - i > r[1] - r[0]:\n",
    "            r = (i, j)\n",
    "        m.remove(s[i])\n",
    "    return s[r[0]:r[1]]\n"
   ]
  },
  {
   "cell_type": "code",
   "execution_count": 26,
   "id": "cdd96ba5",
   "metadata": {},
   "outputs": [
    {
     "data": {
      "text/plain": [
       "'wke'"
      ]
     },
     "execution_count": 26,
     "metadata": {},
     "output_type": "execute_result"
    }
   ],
   "source": [
    "s = \"pwwkew\"\n",
    "longest_substring2(s)"
   ]
  },
  {
   "cell_type": "code",
   "execution_count": 27,
   "id": "c20e6890",
   "metadata": {},
   "outputs": [
    {
     "data": {
      "text/plain": [
       "'b'"
      ]
     },
     "execution_count": 27,
     "metadata": {},
     "output_type": "execute_result"
    }
   ],
   "source": [
    "s = \"bbbbb\"\n",
    "longest_substring2(s)"
   ]
  },
  {
   "cell_type": "code",
   "execution_count": 28,
   "id": "e9e7e973",
   "metadata": {},
   "outputs": [
    {
     "data": {
      "text/plain": [
       "'abc'"
      ]
     },
     "execution_count": 28,
     "metadata": {},
     "output_type": "execute_result"
    }
   ],
   "source": [
    "s = \"abcabcbb\"\n",
    "longest_substring2(s)"
   ]
  },
  {
   "cell_type": "code",
   "execution_count": null,
   "id": "0033461a",
   "metadata": {},
   "outputs": [],
   "source": []
  }
 ],
 "metadata": {
  "kernelspec": {
   "display_name": "Python 3 (ipykernel)",
   "language": "python",
   "name": "python3"
  },
  "language_info": {
   "codemirror_mode": {
    "name": "ipython",
    "version": 3
   },
   "file_extension": ".py",
   "mimetype": "text/x-python",
   "name": "python",
   "nbconvert_exporter": "python",
   "pygments_lexer": "ipython3",
   "version": "3.8.12"
  }
 },
 "nbformat": 4,
 "nbformat_minor": 5
}
