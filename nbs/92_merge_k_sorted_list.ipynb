{
 "cells": [
  {
   "cell_type": "code",
   "execution_count": 1,
   "id": "d8834df3",
   "metadata": {},
   "outputs": [],
   "source": [
    "%load_ext autoreload\n",
    "%autoreload 2"
   ]
  },
  {
   "cell_type": "code",
   "execution_count": 2,
   "id": "e3ea219c",
   "metadata": {},
   "outputs": [],
   "source": [
    "#hide\n",
    "from nbdev.showdoc import *"
   ]
  },
  {
   "cell_type": "code",
   "execution_count": 14,
   "id": "2944a313",
   "metadata": {},
   "outputs": [],
   "source": [
    "import heapq\n",
    "import numpy as np\n",
    "\n",
    "\n",
    "def _push_heap(v_p, a, i, p):\n",
    "    if p < len(a):\n",
    "        heapq.heappush(v_p, (a[p], i, p))\n",
    "    else:\n",
    "        print(f\"Reaching end of list[{i}] {a} at {p}\")\n",
    "        heapq.heappush(v_p, (np.inf, i, p))\n",
    "    \n",
    "\n",
    "def merge_k_sorted(s):\n",
    "    sz = len(s)\n",
    "    if sz == 0:\n",
    "        return s\n",
    "    if sz == 1:\n",
    "        return s[0]\n",
    "    \n",
    "    v_p = []\n",
    "    p = 0\n",
    "    for i, a in enumerate(s):\n",
    "        _push_heap(v_p, a, i, p)\n",
    "    \n",
    "    r = []\n",
    "    while True:\n",
    "        v, i, p = heapq.heappop(v_p)\n",
    "        if v == np.inf:\n",
    "            break\n",
    "            \n",
    "        r.append(v)\n",
    "        p += 1\n",
    "        _push_heap(v_p, s[i], i, p)\n",
    "\n",
    "    return r\n",
    "    \n",
    "    "
   ]
  },
  {
   "cell_type": "code",
   "execution_count": 15,
   "id": "b024ca97",
   "metadata": {},
   "outputs": [
    {
     "name": "stdout",
     "output_type": "stream",
     "text": [
      "Reaching end of list[1] [1, 3, 4] at 3\n",
      "Reaching end of list[0] [1, 4, 5] at 3\n",
      "Reaching end of list[2] [2, 6] at 2\n"
     ]
    },
    {
     "data": {
      "text/plain": [
       "[1, 1, 2, 3, 4, 4, 5, 6]"
      ]
     },
     "execution_count": 15,
     "metadata": {},
     "output_type": "execute_result"
    }
   ],
   "source": [
    "lists = [[1,4,5],[1,3,4],[2,6]]\n",
    "\n",
    "merge_k_sorted(lists)"
   ]
  },
  {
   "cell_type": "code",
   "execution_count": 16,
   "id": "0eb8467e",
   "metadata": {},
   "outputs": [
    {
     "data": {
      "text/plain": [
       "[]"
      ]
     },
     "execution_count": 16,
     "metadata": {},
     "output_type": "execute_result"
    }
   ],
   "source": [
    "lists = [[]]\n",
    "merge_k_sorted(lists)"
   ]
  },
  {
   "cell_type": "code",
   "execution_count": null,
   "id": "c3c9ec7b",
   "metadata": {},
   "outputs": [],
   "source": []
  }
 ],
 "metadata": {
  "kernelspec": {
   "display_name": "Python 3 (ipykernel)",
   "language": "python",
   "name": "python3"
  },
  "language_info": {
   "codemirror_mode": {
    "name": "ipython",
    "version": 3
   },
   "file_extension": ".py",
   "mimetype": "text/x-python",
   "name": "python",
   "nbconvert_exporter": "python",
   "pygments_lexer": "ipython3",
   "version": "3.8.12"
  }
 },
 "nbformat": 4,
 "nbformat_minor": 5
}
